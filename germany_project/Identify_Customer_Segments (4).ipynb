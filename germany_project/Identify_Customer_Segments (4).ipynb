{
 "cells": [
  {
   "cell_type": "markdown",
   "metadata": {},
   "source": [
    "# Project: Identify Customer Segments\n",
    "\n",
    "In this project, you will apply unsupervised learning techniques to identify segments of the population that form the core customer base for a mail-order sales company in Germany. These segments can then be used to direct marketing campaigns towards audiences that will have the highest expected rate of returns. The data that you will use has been provided by our partners at Bertelsmann Arvato Analytics, and represents a real-life data science task.\n",
    "\n",
    "This notebook will help you complete this task by providing a framework within which you will perform your analysis steps. In each step of the project, you will see some text describing the subtask that you will perform, followed by one or more code cells for you to complete your work. **Feel free to add additional code and markdown cells as you go along so that you can explore everything in precise chunks.** The code cells provided in the base template will outline only the major tasks, and will usually not be enough to cover all of the minor tasks that comprise it.\n",
    "\n",
    "It should be noted that while there will be precise guidelines on how you should handle certain tasks in the project, there will also be places where an exact specification is not provided. **There will be times in the project where you will need to make and justify your own decisions on how to treat the data.** These are places where there may not be only one way to handle the data. In real-life tasks, there may be many valid ways to approach an analysis task. One of the most important things you can do is clearly document your approach so that other scientists can understand the decisions you've made.\n",
    "\n",
    "At the end of most sections, there will be a Markdown cell labeled **Discussion**. In these cells, you will report your findings for the completed section, as well as document the decisions that you made in your approach to each subtask. **Your project will be evaluated not just on the code used to complete the tasks outlined, but also your communication about your observations and conclusions at each stage.**"
   ]
  },
  {
   "cell_type": "code",
   "execution_count": 109,
   "metadata": {},
   "outputs": [
    {
     "data": {
      "text/plain": [
       "'\\nImport note: The classroom currently uses sklearn version 0.19.\\nIf you need to use an imputer, it is available in sklearn.preprocessing.Imputer,\\ninstead of sklearn.impute as in newer versions of sklearn.\\n'"
      ]
     },
     "execution_count": 109,
     "metadata": {},
     "output_type": "execute_result"
    }
   ],
   "source": [
    "# import libraries here; add more as necessary\n",
    "import numpy as np\n",
    "import pandas as pd\n",
    "import matplotlib.pyplot as plt\n",
    "import seaborn as sns\n",
    "import math\n",
    "import json\n",
    "import os.path\n",
    "from itertools import islice\n",
    "from ast import literal_eval\n",
    "from pandas.api.types import is_string_dtype\n",
    "from pandas.api.types import is_numeric_dtype\n",
    "from pandas.util.testing import assert_frame_equal\n",
    "from sklearn.preprocessing import StandardScaler, Imputer\n",
    "from sklearn.decomposition import PCA\n",
    "\n",
    "# magic word for producing visualizations in notebook\n",
    "%matplotlib inline\n",
    "\n",
    "'''\n",
    "Import note: The classroom currently uses sklearn version 0.19.\n",
    "If you need to use an imputer, it is available in sklearn.preprocessing.Imputer,\n",
    "instead of sklearn.impute as in newer versions of sklearn.\n",
    "'''"
   ]
  },
  {
   "cell_type": "markdown",
   "metadata": {},
   "source": [
    "### Step 0: Load the Data\n",
    "\n",
    "There are four files associated with this project (not including this one):\n",
    "\n",
    "- `Udacity_AZDIAS_Subset.csv`: Demographics data for the general population of Germany; 891211 persons (rows) x 85 features (columns).\n",
    "- `Udacity_CUSTOMERS_Subset.csv`: Demographics data for customers of a mail-order company; 191652 persons (rows) x 85 features (columns).\n",
    "- `Data_Dictionary.md`: Detailed information file about the features in the provided datasets.\n",
    "- `AZDIAS_Feature_Summary.csv`: Summary of feature attributes for demographics data; 85 features (rows) x 4 columns\n",
    "\n",
    "Each row of the demographics files represents a single person, but also includes information outside of individuals, including information about their household, building, and neighborhood. You will use this information to cluster the general population into groups with similar demographic properties. Then, you will see how the people in the customers dataset fit into those created clusters. The hope here is that certain clusters are over-represented in the customers data, as compared to the general population; those over-represented clusters will be assumed to be part of the core userbase. This information can then be used for further applications, such as targeting for a marketing campaign.\n",
    "\n",
    "To start off with, load in the demographics data for the general population into a pandas DataFrame, and do the same for the feature attributes summary. Note for all of the `.csv` data files in this project: they're semicolon (`;`) delimited, so you'll need an additional argument in your [`read_csv()`](https://pandas.pydata.org/pandas-docs/stable/generated/pandas.read_csv.html) call to read in the data properly. Also, considering the size of the main dataset, it may take some time for it to load completely.\n",
    "\n",
    "Once the dataset is loaded, it's recommended that you take a little bit of time just browsing the general structure of the dataset and feature summary file. You'll be getting deep into the innards of the cleaning in the first major step of the project, so gaining some general familiarity can help you get your bearings."
   ]
  },
  {
   "cell_type": "code",
   "execution_count": 57,
   "metadata": {},
   "outputs": [],
   "source": [
    "# Load in the general demographics data.\n",
    "azdias = pd.read_csv('Udacity_AZDIAS_Subset.csv', delimiter=';')\n",
    "\n",
    "# Load in the feature summary file.\n",
    "feat_info = pd.read_csv('AZDIAS_Feature_Summary.csv', delimiter=';')"
   ]
  },
  {
   "cell_type": "code",
   "execution_count": 58,
   "metadata": {},
   "outputs": [
    {
     "name": "stdout",
     "output_type": "stream",
     "text": [
      "AZDIAS subset num of column: 85\n",
      "AZDIAS num of rows: 891221\n"
     ]
    },
    {
     "data": {
      "text/html": [
       "<div>\n",
       "<style scoped>\n",
       "    .dataframe tbody tr th:only-of-type {\n",
       "        vertical-align: middle;\n",
       "    }\n",
       "\n",
       "    .dataframe tbody tr th {\n",
       "        vertical-align: top;\n",
       "    }\n",
       "\n",
       "    .dataframe thead th {\n",
       "        text-align: right;\n",
       "    }\n",
       "</style>\n",
       "<table border=\"1\" class=\"dataframe\">\n",
       "  <thead>\n",
       "    <tr style=\"text-align: right;\">\n",
       "      <th></th>\n",
       "      <th>AGER_TYP</th>\n",
       "      <th>ALTERSKATEGORIE_GROB</th>\n",
       "      <th>ANREDE_KZ</th>\n",
       "      <th>CJT_GESAMTTYP</th>\n",
       "      <th>FINANZ_MINIMALIST</th>\n",
       "      <th>FINANZ_SPARER</th>\n",
       "      <th>FINANZ_VORSORGER</th>\n",
       "      <th>FINANZ_ANLEGER</th>\n",
       "      <th>FINANZ_UNAUFFAELLIGER</th>\n",
       "      <th>FINANZ_HAUSBAUER</th>\n",
       "      <th>...</th>\n",
       "      <th>PLZ8_ANTG1</th>\n",
       "      <th>PLZ8_ANTG2</th>\n",
       "      <th>PLZ8_ANTG3</th>\n",
       "      <th>PLZ8_ANTG4</th>\n",
       "      <th>PLZ8_BAUMAX</th>\n",
       "      <th>PLZ8_HHZ</th>\n",
       "      <th>PLZ8_GBZ</th>\n",
       "      <th>ARBEIT</th>\n",
       "      <th>ORTSGR_KLS9</th>\n",
       "      <th>RELAT_AB</th>\n",
       "    </tr>\n",
       "  </thead>\n",
       "  <tbody>\n",
       "    <tr>\n",
       "      <th>0</th>\n",
       "      <td>-1</td>\n",
       "      <td>2</td>\n",
       "      <td>1</td>\n",
       "      <td>2.0</td>\n",
       "      <td>3</td>\n",
       "      <td>4</td>\n",
       "      <td>3</td>\n",
       "      <td>5</td>\n",
       "      <td>5</td>\n",
       "      <td>3</td>\n",
       "      <td>...</td>\n",
       "      <td>NaN</td>\n",
       "      <td>NaN</td>\n",
       "      <td>NaN</td>\n",
       "      <td>NaN</td>\n",
       "      <td>NaN</td>\n",
       "      <td>NaN</td>\n",
       "      <td>NaN</td>\n",
       "      <td>NaN</td>\n",
       "      <td>NaN</td>\n",
       "      <td>NaN</td>\n",
       "    </tr>\n",
       "    <tr>\n",
       "      <th>1</th>\n",
       "      <td>-1</td>\n",
       "      <td>1</td>\n",
       "      <td>2</td>\n",
       "      <td>5.0</td>\n",
       "      <td>1</td>\n",
       "      <td>5</td>\n",
       "      <td>2</td>\n",
       "      <td>5</td>\n",
       "      <td>4</td>\n",
       "      <td>5</td>\n",
       "      <td>...</td>\n",
       "      <td>2.0</td>\n",
       "      <td>3.0</td>\n",
       "      <td>2.0</td>\n",
       "      <td>1.0</td>\n",
       "      <td>1.0</td>\n",
       "      <td>5.0</td>\n",
       "      <td>4.0</td>\n",
       "      <td>3.0</td>\n",
       "      <td>5.0</td>\n",
       "      <td>4.0</td>\n",
       "    </tr>\n",
       "    <tr>\n",
       "      <th>2</th>\n",
       "      <td>-1</td>\n",
       "      <td>3</td>\n",
       "      <td>2</td>\n",
       "      <td>3.0</td>\n",
       "      <td>1</td>\n",
       "      <td>4</td>\n",
       "      <td>1</td>\n",
       "      <td>2</td>\n",
       "      <td>3</td>\n",
       "      <td>5</td>\n",
       "      <td>...</td>\n",
       "      <td>3.0</td>\n",
       "      <td>3.0</td>\n",
       "      <td>1.0</td>\n",
       "      <td>0.0</td>\n",
       "      <td>1.0</td>\n",
       "      <td>4.0</td>\n",
       "      <td>4.0</td>\n",
       "      <td>3.0</td>\n",
       "      <td>5.0</td>\n",
       "      <td>2.0</td>\n",
       "    </tr>\n",
       "    <tr>\n",
       "      <th>3</th>\n",
       "      <td>2</td>\n",
       "      <td>4</td>\n",
       "      <td>2</td>\n",
       "      <td>2.0</td>\n",
       "      <td>4</td>\n",
       "      <td>2</td>\n",
       "      <td>5</td>\n",
       "      <td>2</td>\n",
       "      <td>1</td>\n",
       "      <td>2</td>\n",
       "      <td>...</td>\n",
       "      <td>2.0</td>\n",
       "      <td>2.0</td>\n",
       "      <td>2.0</td>\n",
       "      <td>0.0</td>\n",
       "      <td>1.0</td>\n",
       "      <td>3.0</td>\n",
       "      <td>4.0</td>\n",
       "      <td>2.0</td>\n",
       "      <td>3.0</td>\n",
       "      <td>3.0</td>\n",
       "    </tr>\n",
       "    <tr>\n",
       "      <th>4</th>\n",
       "      <td>-1</td>\n",
       "      <td>3</td>\n",
       "      <td>1</td>\n",
       "      <td>5.0</td>\n",
       "      <td>4</td>\n",
       "      <td>3</td>\n",
       "      <td>4</td>\n",
       "      <td>1</td>\n",
       "      <td>3</td>\n",
       "      <td>2</td>\n",
       "      <td>...</td>\n",
       "      <td>2.0</td>\n",
       "      <td>4.0</td>\n",
       "      <td>2.0</td>\n",
       "      <td>1.0</td>\n",
       "      <td>2.0</td>\n",
       "      <td>3.0</td>\n",
       "      <td>3.0</td>\n",
       "      <td>4.0</td>\n",
       "      <td>6.0</td>\n",
       "      <td>5.0</td>\n",
       "    </tr>\n",
       "  </tbody>\n",
       "</table>\n",
       "<p>5 rows × 85 columns</p>\n",
       "</div>"
      ],
      "text/plain": [
       "   AGER_TYP  ALTERSKATEGORIE_GROB  ANREDE_KZ  CJT_GESAMTTYP  \\\n",
       "0        -1                     2          1            2.0   \n",
       "1        -1                     1          2            5.0   \n",
       "2        -1                     3          2            3.0   \n",
       "3         2                     4          2            2.0   \n",
       "4        -1                     3          1            5.0   \n",
       "\n",
       "   FINANZ_MINIMALIST  FINANZ_SPARER  FINANZ_VORSORGER  FINANZ_ANLEGER  \\\n",
       "0                  3              4                 3               5   \n",
       "1                  1              5                 2               5   \n",
       "2                  1              4                 1               2   \n",
       "3                  4              2                 5               2   \n",
       "4                  4              3                 4               1   \n",
       "\n",
       "   FINANZ_UNAUFFAELLIGER  FINANZ_HAUSBAUER    ...     PLZ8_ANTG1  PLZ8_ANTG2  \\\n",
       "0                      5                 3    ...            NaN         NaN   \n",
       "1                      4                 5    ...            2.0         3.0   \n",
       "2                      3                 5    ...            3.0         3.0   \n",
       "3                      1                 2    ...            2.0         2.0   \n",
       "4                      3                 2    ...            2.0         4.0   \n",
       "\n",
       "   PLZ8_ANTG3  PLZ8_ANTG4  PLZ8_BAUMAX  PLZ8_HHZ  PLZ8_GBZ  ARBEIT  \\\n",
       "0         NaN         NaN          NaN       NaN       NaN     NaN   \n",
       "1         2.0         1.0          1.0       5.0       4.0     3.0   \n",
       "2         1.0         0.0          1.0       4.0       4.0     3.0   \n",
       "3         2.0         0.0          1.0       3.0       4.0     2.0   \n",
       "4         2.0         1.0          2.0       3.0       3.0     4.0   \n",
       "\n",
       "   ORTSGR_KLS9  RELAT_AB  \n",
       "0          NaN       NaN  \n",
       "1          5.0       4.0  \n",
       "2          5.0       2.0  \n",
       "3          3.0       3.0  \n",
       "4          6.0       5.0  \n",
       "\n",
       "[5 rows x 85 columns]"
      ]
     },
     "metadata": {},
     "output_type": "display_data"
    },
    {
     "name": "stdout",
     "output_type": "stream",
     "text": [
      "===================================\n",
      "\n",
      "AZDIAS features subset num of column: 4\n",
      "AZDIAS features num of rows: 85\n"
     ]
    },
    {
     "data": {
      "text/html": [
       "<div>\n",
       "<style scoped>\n",
       "    .dataframe tbody tr th:only-of-type {\n",
       "        vertical-align: middle;\n",
       "    }\n",
       "\n",
       "    .dataframe tbody tr th {\n",
       "        vertical-align: top;\n",
       "    }\n",
       "\n",
       "    .dataframe thead th {\n",
       "        text-align: right;\n",
       "    }\n",
       "</style>\n",
       "<table border=\"1\" class=\"dataframe\">\n",
       "  <thead>\n",
       "    <tr style=\"text-align: right;\">\n",
       "      <th></th>\n",
       "      <th>attribute</th>\n",
       "      <th>information_level</th>\n",
       "      <th>type</th>\n",
       "      <th>missing_or_unknown</th>\n",
       "    </tr>\n",
       "  </thead>\n",
       "  <tbody>\n",
       "    <tr>\n",
       "      <th>0</th>\n",
       "      <td>AGER_TYP</td>\n",
       "      <td>person</td>\n",
       "      <td>categorical</td>\n",
       "      <td>[-1,0]</td>\n",
       "    </tr>\n",
       "    <tr>\n",
       "      <th>1</th>\n",
       "      <td>ALTERSKATEGORIE_GROB</td>\n",
       "      <td>person</td>\n",
       "      <td>ordinal</td>\n",
       "      <td>[-1,0,9]</td>\n",
       "    </tr>\n",
       "    <tr>\n",
       "      <th>2</th>\n",
       "      <td>ANREDE_KZ</td>\n",
       "      <td>person</td>\n",
       "      <td>categorical</td>\n",
       "      <td>[-1,0]</td>\n",
       "    </tr>\n",
       "    <tr>\n",
       "      <th>3</th>\n",
       "      <td>CJT_GESAMTTYP</td>\n",
       "      <td>person</td>\n",
       "      <td>categorical</td>\n",
       "      <td>[0]</td>\n",
       "    </tr>\n",
       "    <tr>\n",
       "      <th>4</th>\n",
       "      <td>FINANZ_MINIMALIST</td>\n",
       "      <td>person</td>\n",
       "      <td>ordinal</td>\n",
       "      <td>[-1]</td>\n",
       "    </tr>\n",
       "    <tr>\n",
       "      <th>5</th>\n",
       "      <td>FINANZ_SPARER</td>\n",
       "      <td>person</td>\n",
       "      <td>ordinal</td>\n",
       "      <td>[-1]</td>\n",
       "    </tr>\n",
       "    <tr>\n",
       "      <th>6</th>\n",
       "      <td>FINANZ_VORSORGER</td>\n",
       "      <td>person</td>\n",
       "      <td>ordinal</td>\n",
       "      <td>[-1]</td>\n",
       "    </tr>\n",
       "    <tr>\n",
       "      <th>7</th>\n",
       "      <td>FINANZ_ANLEGER</td>\n",
       "      <td>person</td>\n",
       "      <td>ordinal</td>\n",
       "      <td>[-1]</td>\n",
       "    </tr>\n",
       "    <tr>\n",
       "      <th>8</th>\n",
       "      <td>FINANZ_UNAUFFAELLIGER</td>\n",
       "      <td>person</td>\n",
       "      <td>ordinal</td>\n",
       "      <td>[-1]</td>\n",
       "    </tr>\n",
       "    <tr>\n",
       "      <th>9</th>\n",
       "      <td>FINANZ_HAUSBAUER</td>\n",
       "      <td>person</td>\n",
       "      <td>ordinal</td>\n",
       "      <td>[-1]</td>\n",
       "    </tr>\n",
       "    <tr>\n",
       "      <th>10</th>\n",
       "      <td>FINANZTYP</td>\n",
       "      <td>person</td>\n",
       "      <td>categorical</td>\n",
       "      <td>[-1]</td>\n",
       "    </tr>\n",
       "    <tr>\n",
       "      <th>11</th>\n",
       "      <td>GEBURTSJAHR</td>\n",
       "      <td>person</td>\n",
       "      <td>numeric</td>\n",
       "      <td>[0]</td>\n",
       "    </tr>\n",
       "    <tr>\n",
       "      <th>12</th>\n",
       "      <td>GFK_URLAUBERTYP</td>\n",
       "      <td>person</td>\n",
       "      <td>categorical</td>\n",
       "      <td>[]</td>\n",
       "    </tr>\n",
       "    <tr>\n",
       "      <th>13</th>\n",
       "      <td>GREEN_AVANTGARDE</td>\n",
       "      <td>person</td>\n",
       "      <td>categorical</td>\n",
       "      <td>[]</td>\n",
       "    </tr>\n",
       "    <tr>\n",
       "      <th>14</th>\n",
       "      <td>HEALTH_TYP</td>\n",
       "      <td>person</td>\n",
       "      <td>ordinal</td>\n",
       "      <td>[-1,0]</td>\n",
       "    </tr>\n",
       "    <tr>\n",
       "      <th>15</th>\n",
       "      <td>LP_LEBENSPHASE_FEIN</td>\n",
       "      <td>person</td>\n",
       "      <td>mixed</td>\n",
       "      <td>[0]</td>\n",
       "    </tr>\n",
       "    <tr>\n",
       "      <th>16</th>\n",
       "      <td>LP_LEBENSPHASE_GROB</td>\n",
       "      <td>person</td>\n",
       "      <td>mixed</td>\n",
       "      <td>[0]</td>\n",
       "    </tr>\n",
       "    <tr>\n",
       "      <th>17</th>\n",
       "      <td>LP_FAMILIE_FEIN</td>\n",
       "      <td>person</td>\n",
       "      <td>categorical</td>\n",
       "      <td>[0]</td>\n",
       "    </tr>\n",
       "    <tr>\n",
       "      <th>18</th>\n",
       "      <td>LP_FAMILIE_GROB</td>\n",
       "      <td>person</td>\n",
       "      <td>categorical</td>\n",
       "      <td>[0]</td>\n",
       "    </tr>\n",
       "    <tr>\n",
       "      <th>19</th>\n",
       "      <td>LP_STATUS_FEIN</td>\n",
       "      <td>person</td>\n",
       "      <td>categorical</td>\n",
       "      <td>[0]</td>\n",
       "    </tr>\n",
       "    <tr>\n",
       "      <th>20</th>\n",
       "      <td>LP_STATUS_GROB</td>\n",
       "      <td>person</td>\n",
       "      <td>categorical</td>\n",
       "      <td>[0]</td>\n",
       "    </tr>\n",
       "    <tr>\n",
       "      <th>21</th>\n",
       "      <td>NATIONALITAET_KZ</td>\n",
       "      <td>person</td>\n",
       "      <td>categorical</td>\n",
       "      <td>[-1,0]</td>\n",
       "    </tr>\n",
       "    <tr>\n",
       "      <th>22</th>\n",
       "      <td>PRAEGENDE_JUGENDJAHRE</td>\n",
       "      <td>person</td>\n",
       "      <td>mixed</td>\n",
       "      <td>[-1,0]</td>\n",
       "    </tr>\n",
       "    <tr>\n",
       "      <th>23</th>\n",
       "      <td>RETOURTYP_BK_S</td>\n",
       "      <td>person</td>\n",
       "      <td>ordinal</td>\n",
       "      <td>[0]</td>\n",
       "    </tr>\n",
       "    <tr>\n",
       "      <th>24</th>\n",
       "      <td>SEMIO_SOZ</td>\n",
       "      <td>person</td>\n",
       "      <td>ordinal</td>\n",
       "      <td>[-1,9]</td>\n",
       "    </tr>\n",
       "    <tr>\n",
       "      <th>25</th>\n",
       "      <td>SEMIO_FAM</td>\n",
       "      <td>person</td>\n",
       "      <td>ordinal</td>\n",
       "      <td>[-1,9]</td>\n",
       "    </tr>\n",
       "    <tr>\n",
       "      <th>26</th>\n",
       "      <td>SEMIO_REL</td>\n",
       "      <td>person</td>\n",
       "      <td>ordinal</td>\n",
       "      <td>[-1,9]</td>\n",
       "    </tr>\n",
       "    <tr>\n",
       "      <th>27</th>\n",
       "      <td>SEMIO_MAT</td>\n",
       "      <td>person</td>\n",
       "      <td>ordinal</td>\n",
       "      <td>[-1,9]</td>\n",
       "    </tr>\n",
       "    <tr>\n",
       "      <th>28</th>\n",
       "      <td>SEMIO_VERT</td>\n",
       "      <td>person</td>\n",
       "      <td>ordinal</td>\n",
       "      <td>[-1,9]</td>\n",
       "    </tr>\n",
       "    <tr>\n",
       "      <th>29</th>\n",
       "      <td>SEMIO_LUST</td>\n",
       "      <td>person</td>\n",
       "      <td>ordinal</td>\n",
       "      <td>[-1,9]</td>\n",
       "    </tr>\n",
       "    <tr>\n",
       "      <th>...</th>\n",
       "      <td>...</td>\n",
       "      <td>...</td>\n",
       "      <td>...</td>\n",
       "      <td>...</td>\n",
       "    </tr>\n",
       "    <tr>\n",
       "      <th>55</th>\n",
       "      <td>OST_WEST_KZ</td>\n",
       "      <td>building</td>\n",
       "      <td>categorical</td>\n",
       "      <td>[-1]</td>\n",
       "    </tr>\n",
       "    <tr>\n",
       "      <th>56</th>\n",
       "      <td>WOHNLAGE</td>\n",
       "      <td>building</td>\n",
       "      <td>mixed</td>\n",
       "      <td>[-1]</td>\n",
       "    </tr>\n",
       "    <tr>\n",
       "      <th>57</th>\n",
       "      <td>CAMEO_DEUG_2015</td>\n",
       "      <td>microcell_rr4</td>\n",
       "      <td>categorical</td>\n",
       "      <td>[-1,X]</td>\n",
       "    </tr>\n",
       "    <tr>\n",
       "      <th>58</th>\n",
       "      <td>CAMEO_DEU_2015</td>\n",
       "      <td>microcell_rr4</td>\n",
       "      <td>categorical</td>\n",
       "      <td>[XX]</td>\n",
       "    </tr>\n",
       "    <tr>\n",
       "      <th>59</th>\n",
       "      <td>CAMEO_INTL_2015</td>\n",
       "      <td>microcell_rr4</td>\n",
       "      <td>mixed</td>\n",
       "      <td>[-1,XX]</td>\n",
       "    </tr>\n",
       "    <tr>\n",
       "      <th>60</th>\n",
       "      <td>KBA05_ANTG1</td>\n",
       "      <td>microcell_rr3</td>\n",
       "      <td>ordinal</td>\n",
       "      <td>[-1]</td>\n",
       "    </tr>\n",
       "    <tr>\n",
       "      <th>61</th>\n",
       "      <td>KBA05_ANTG2</td>\n",
       "      <td>microcell_rr3</td>\n",
       "      <td>ordinal</td>\n",
       "      <td>[-1]</td>\n",
       "    </tr>\n",
       "    <tr>\n",
       "      <th>62</th>\n",
       "      <td>KBA05_ANTG3</td>\n",
       "      <td>microcell_rr3</td>\n",
       "      <td>ordinal</td>\n",
       "      <td>[-1]</td>\n",
       "    </tr>\n",
       "    <tr>\n",
       "      <th>63</th>\n",
       "      <td>KBA05_ANTG4</td>\n",
       "      <td>microcell_rr3</td>\n",
       "      <td>ordinal</td>\n",
       "      <td>[-1]</td>\n",
       "    </tr>\n",
       "    <tr>\n",
       "      <th>64</th>\n",
       "      <td>KBA05_BAUMAX</td>\n",
       "      <td>microcell_rr3</td>\n",
       "      <td>mixed</td>\n",
       "      <td>[-1,0]</td>\n",
       "    </tr>\n",
       "    <tr>\n",
       "      <th>65</th>\n",
       "      <td>KBA05_GBZ</td>\n",
       "      <td>microcell_rr3</td>\n",
       "      <td>ordinal</td>\n",
       "      <td>[-1,0]</td>\n",
       "    </tr>\n",
       "    <tr>\n",
       "      <th>66</th>\n",
       "      <td>BALLRAUM</td>\n",
       "      <td>postcode</td>\n",
       "      <td>ordinal</td>\n",
       "      <td>[-1]</td>\n",
       "    </tr>\n",
       "    <tr>\n",
       "      <th>67</th>\n",
       "      <td>EWDICHTE</td>\n",
       "      <td>postcode</td>\n",
       "      <td>ordinal</td>\n",
       "      <td>[-1]</td>\n",
       "    </tr>\n",
       "    <tr>\n",
       "      <th>68</th>\n",
       "      <td>INNENSTADT</td>\n",
       "      <td>postcode</td>\n",
       "      <td>ordinal</td>\n",
       "      <td>[-1]</td>\n",
       "    </tr>\n",
       "    <tr>\n",
       "      <th>69</th>\n",
       "      <td>GEBAEUDETYP_RASTER</td>\n",
       "      <td>region_rr1</td>\n",
       "      <td>ordinal</td>\n",
       "      <td>[]</td>\n",
       "    </tr>\n",
       "    <tr>\n",
       "      <th>70</th>\n",
       "      <td>KKK</td>\n",
       "      <td>region_rr1</td>\n",
       "      <td>ordinal</td>\n",
       "      <td>[-1,0]</td>\n",
       "    </tr>\n",
       "    <tr>\n",
       "      <th>71</th>\n",
       "      <td>MOBI_REGIO</td>\n",
       "      <td>region_rr1</td>\n",
       "      <td>ordinal</td>\n",
       "      <td>[]</td>\n",
       "    </tr>\n",
       "    <tr>\n",
       "      <th>72</th>\n",
       "      <td>ONLINE_AFFINITAET</td>\n",
       "      <td>region_rr1</td>\n",
       "      <td>ordinal</td>\n",
       "      <td>[]</td>\n",
       "    </tr>\n",
       "    <tr>\n",
       "      <th>73</th>\n",
       "      <td>REGIOTYP</td>\n",
       "      <td>region_rr1</td>\n",
       "      <td>ordinal</td>\n",
       "      <td>[-1,0]</td>\n",
       "    </tr>\n",
       "    <tr>\n",
       "      <th>74</th>\n",
       "      <td>KBA13_ANZAHL_PKW</td>\n",
       "      <td>macrocell_plz8</td>\n",
       "      <td>numeric</td>\n",
       "      <td>[]</td>\n",
       "    </tr>\n",
       "    <tr>\n",
       "      <th>75</th>\n",
       "      <td>PLZ8_ANTG1</td>\n",
       "      <td>macrocell_plz8</td>\n",
       "      <td>ordinal</td>\n",
       "      <td>[-1]</td>\n",
       "    </tr>\n",
       "    <tr>\n",
       "      <th>76</th>\n",
       "      <td>PLZ8_ANTG2</td>\n",
       "      <td>macrocell_plz8</td>\n",
       "      <td>ordinal</td>\n",
       "      <td>[-1]</td>\n",
       "    </tr>\n",
       "    <tr>\n",
       "      <th>77</th>\n",
       "      <td>PLZ8_ANTG3</td>\n",
       "      <td>macrocell_plz8</td>\n",
       "      <td>ordinal</td>\n",
       "      <td>[-1]</td>\n",
       "    </tr>\n",
       "    <tr>\n",
       "      <th>78</th>\n",
       "      <td>PLZ8_ANTG4</td>\n",
       "      <td>macrocell_plz8</td>\n",
       "      <td>ordinal</td>\n",
       "      <td>[-1]</td>\n",
       "    </tr>\n",
       "    <tr>\n",
       "      <th>79</th>\n",
       "      <td>PLZ8_BAUMAX</td>\n",
       "      <td>macrocell_plz8</td>\n",
       "      <td>mixed</td>\n",
       "      <td>[-1,0]</td>\n",
       "    </tr>\n",
       "    <tr>\n",
       "      <th>80</th>\n",
       "      <td>PLZ8_HHZ</td>\n",
       "      <td>macrocell_plz8</td>\n",
       "      <td>ordinal</td>\n",
       "      <td>[-1]</td>\n",
       "    </tr>\n",
       "    <tr>\n",
       "      <th>81</th>\n",
       "      <td>PLZ8_GBZ</td>\n",
       "      <td>macrocell_plz8</td>\n",
       "      <td>ordinal</td>\n",
       "      <td>[-1]</td>\n",
       "    </tr>\n",
       "    <tr>\n",
       "      <th>82</th>\n",
       "      <td>ARBEIT</td>\n",
       "      <td>community</td>\n",
       "      <td>ordinal</td>\n",
       "      <td>[-1,9]</td>\n",
       "    </tr>\n",
       "    <tr>\n",
       "      <th>83</th>\n",
       "      <td>ORTSGR_KLS9</td>\n",
       "      <td>community</td>\n",
       "      <td>ordinal</td>\n",
       "      <td>[-1,0]</td>\n",
       "    </tr>\n",
       "    <tr>\n",
       "      <th>84</th>\n",
       "      <td>RELAT_AB</td>\n",
       "      <td>community</td>\n",
       "      <td>ordinal</td>\n",
       "      <td>[-1,9]</td>\n",
       "    </tr>\n",
       "  </tbody>\n",
       "</table>\n",
       "<p>85 rows × 4 columns</p>\n",
       "</div>"
      ],
      "text/plain": [
       "                attribute information_level         type missing_or_unknown\n",
       "0                AGER_TYP            person  categorical             [-1,0]\n",
       "1    ALTERSKATEGORIE_GROB            person      ordinal           [-1,0,9]\n",
       "2               ANREDE_KZ            person  categorical             [-1,0]\n",
       "3           CJT_GESAMTTYP            person  categorical                [0]\n",
       "4       FINANZ_MINIMALIST            person      ordinal               [-1]\n",
       "5           FINANZ_SPARER            person      ordinal               [-1]\n",
       "6        FINANZ_VORSORGER            person      ordinal               [-1]\n",
       "7          FINANZ_ANLEGER            person      ordinal               [-1]\n",
       "8   FINANZ_UNAUFFAELLIGER            person      ordinal               [-1]\n",
       "9        FINANZ_HAUSBAUER            person      ordinal               [-1]\n",
       "10              FINANZTYP            person  categorical               [-1]\n",
       "11            GEBURTSJAHR            person      numeric                [0]\n",
       "12        GFK_URLAUBERTYP            person  categorical                 []\n",
       "13       GREEN_AVANTGARDE            person  categorical                 []\n",
       "14             HEALTH_TYP            person      ordinal             [-1,0]\n",
       "15    LP_LEBENSPHASE_FEIN            person        mixed                [0]\n",
       "16    LP_LEBENSPHASE_GROB            person        mixed                [0]\n",
       "17        LP_FAMILIE_FEIN            person  categorical                [0]\n",
       "18        LP_FAMILIE_GROB            person  categorical                [0]\n",
       "19         LP_STATUS_FEIN            person  categorical                [0]\n",
       "20         LP_STATUS_GROB            person  categorical                [0]\n",
       "21       NATIONALITAET_KZ            person  categorical             [-1,0]\n",
       "22  PRAEGENDE_JUGENDJAHRE            person        mixed             [-1,0]\n",
       "23         RETOURTYP_BK_S            person      ordinal                [0]\n",
       "24              SEMIO_SOZ            person      ordinal             [-1,9]\n",
       "25              SEMIO_FAM            person      ordinal             [-1,9]\n",
       "26              SEMIO_REL            person      ordinal             [-1,9]\n",
       "27              SEMIO_MAT            person      ordinal             [-1,9]\n",
       "28             SEMIO_VERT            person      ordinal             [-1,9]\n",
       "29             SEMIO_LUST            person      ordinal             [-1,9]\n",
       "..                    ...               ...          ...                ...\n",
       "55            OST_WEST_KZ          building  categorical               [-1]\n",
       "56               WOHNLAGE          building        mixed               [-1]\n",
       "57        CAMEO_DEUG_2015     microcell_rr4  categorical             [-1,X]\n",
       "58         CAMEO_DEU_2015     microcell_rr4  categorical               [XX]\n",
       "59        CAMEO_INTL_2015     microcell_rr4        mixed            [-1,XX]\n",
       "60            KBA05_ANTG1     microcell_rr3      ordinal               [-1]\n",
       "61            KBA05_ANTG2     microcell_rr3      ordinal               [-1]\n",
       "62            KBA05_ANTG3     microcell_rr3      ordinal               [-1]\n",
       "63            KBA05_ANTG4     microcell_rr3      ordinal               [-1]\n",
       "64           KBA05_BAUMAX     microcell_rr3        mixed             [-1,0]\n",
       "65              KBA05_GBZ     microcell_rr3      ordinal             [-1,0]\n",
       "66               BALLRAUM          postcode      ordinal               [-1]\n",
       "67               EWDICHTE          postcode      ordinal               [-1]\n",
       "68             INNENSTADT          postcode      ordinal               [-1]\n",
       "69     GEBAEUDETYP_RASTER        region_rr1      ordinal                 []\n",
       "70                    KKK        region_rr1      ordinal             [-1,0]\n",
       "71             MOBI_REGIO        region_rr1      ordinal                 []\n",
       "72      ONLINE_AFFINITAET        region_rr1      ordinal                 []\n",
       "73               REGIOTYP        region_rr1      ordinal             [-1,0]\n",
       "74       KBA13_ANZAHL_PKW    macrocell_plz8      numeric                 []\n",
       "75             PLZ8_ANTG1    macrocell_plz8      ordinal               [-1]\n",
       "76             PLZ8_ANTG2    macrocell_plz8      ordinal               [-1]\n",
       "77             PLZ8_ANTG3    macrocell_plz8      ordinal               [-1]\n",
       "78             PLZ8_ANTG4    macrocell_plz8      ordinal               [-1]\n",
       "79            PLZ8_BAUMAX    macrocell_plz8        mixed             [-1,0]\n",
       "80               PLZ8_HHZ    macrocell_plz8      ordinal               [-1]\n",
       "81               PLZ8_GBZ    macrocell_plz8      ordinal               [-1]\n",
       "82                 ARBEIT         community      ordinal             [-1,9]\n",
       "83            ORTSGR_KLS9         community      ordinal             [-1,0]\n",
       "84               RELAT_AB         community      ordinal             [-1,9]\n",
       "\n",
       "[85 rows x 4 columns]"
      ]
     },
     "metadata": {},
     "output_type": "display_data"
    }
   ],
   "source": [
    "# Check the structure of the data after it's loaded (e.g. print the number of\n",
    "# rows and columns, print the first few rows).\n",
    "print(\"AZDIAS subset num of column: \" + str(len(azdias.columns)))\n",
    "print(\"AZDIAS num of rows: \" + str(len(azdias)))\n",
    "display(azdias.head())\n",
    "\n",
    "print(\"===================================\\n\")\n",
    "\n",
    "print(\"AZDIAS features subset num of column: \" + str(len(feat_info.columns)))\n",
    "print(\"AZDIAS features num of rows: \" + str(len(feat_info)))\n",
    "display(feat_info)\n"
   ]
  },
  {
   "cell_type": "code",
   "execution_count": 59,
   "metadata": {},
   "outputs": [
    {
     "data": {
      "text/html": [
       "<div>\n",
       "<style scoped>\n",
       "    .dataframe tbody tr th:only-of-type {\n",
       "        vertical-align: middle;\n",
       "    }\n",
       "\n",
       "    .dataframe tbody tr th {\n",
       "        vertical-align: top;\n",
       "    }\n",
       "\n",
       "    .dataframe thead th {\n",
       "        text-align: right;\n",
       "    }\n",
       "</style>\n",
       "<table border=\"1\" class=\"dataframe\">\n",
       "  <thead>\n",
       "    <tr style=\"text-align: right;\">\n",
       "      <th></th>\n",
       "      <th>CAMEO_DEU_2015</th>\n",
       "    </tr>\n",
       "  </thead>\n",
       "  <tbody>\n",
       "    <tr>\n",
       "      <th>2511</th>\n",
       "      <td>XX</td>\n",
       "    </tr>\n",
       "    <tr>\n",
       "      <th>4569</th>\n",
       "      <td>XX</td>\n",
       "    </tr>\n",
       "    <tr>\n",
       "      <th>9803</th>\n",
       "      <td>XX</td>\n",
       "    </tr>\n",
       "    <tr>\n",
       "      <th>16700</th>\n",
       "      <td>XX</td>\n",
       "    </tr>\n",
       "    <tr>\n",
       "      <th>16883</th>\n",
       "      <td>XX</td>\n",
       "    </tr>\n",
       "  </tbody>\n",
       "</table>\n",
       "</div>"
      ],
      "text/plain": [
       "      CAMEO_DEU_2015\n",
       "2511              XX\n",
       "4569              XX\n",
       "9803              XX\n",
       "16700             XX\n",
       "16883             XX"
      ]
     },
     "execution_count": 59,
     "metadata": {},
     "output_type": "execute_result"
    }
   ],
   "source": [
    "# Confirm that the 'XX' values are correct sinc they seem strange in the data\n",
    "get_xx_values = azdias.loc[azdias['CAMEO_DEU_2015']=='XX', ['CAMEO_DEU_2015']]\n",
    "get_xx_values.head()"
   ]
  },
  {
   "cell_type": "code",
   "execution_count": 60,
   "metadata": {},
   "outputs": [
    {
     "name": "stdout",
     "output_type": "stream",
     "text": [
      "<class 'numpy.float64'>\n",
      "False\n",
      "False\n",
      "False\n",
      "True\n"
     ]
    }
   ],
   "source": [
    "# Find the value of cells already displaying NaN (is it a string, a Numpy NaN, etc.?)\n",
    "# The column PLZ8_ANTG1 in the first row has a NaN value so we'll deconstruct that\n",
    "nan_value = azdias.iloc[0]['PLZ8_ANTG1']\n",
    "print(type(nan_value))\n",
    "print(nan_value=='nan')\n",
    "print(nan_value=='NaN')\n",
    "print(nan_value==np.nan)\n",
    "print(math.isnan(nan_value)) # Bingo..."
   ]
  },
  {
   "cell_type": "markdown",
   "metadata": {},
   "source": [
    "> **Tip**: Add additional cells to keep everything in reasonably-sized chunks! Keyboard shortcut `esc --> a` (press escape to enter command mode, then press the 'A' key) adds a new cell before the active cell, and `esc --> b` adds a new cell after the active cell. If you need to convert an active cell to a markdown cell, use `esc --> m` and to convert to a code cell, use `esc --> y`. \n",
    "\n",
    "## Step 1: Preprocessing\n",
    "\n",
    "### Step 1.1: Assess Missing Data\n",
    "\n",
    "The feature summary file contains a summary of properties for each demographics data column. You will use this file to help you make cleaning decisions during this stage of the project. First of all, you should assess the demographics data in terms of missing data. Pay attention to the following points as you perform your analysis, and take notes on what you observe. Make sure that you fill in the **Discussion** cell with your findings and decisions at the end of each step that has one!\n",
    "\n",
    "#### Step 1.1.1: Convert Missing Value Codes to NaNs\n",
    "The fourth column of the feature attributes summary (loaded in above as `feat_info`) documents the codes from the data dictionary that indicate missing or unknown data. While the file encodes this as a list (e.g. `[-1,0]`), this will get read in as a string object. You'll need to do a little bit of parsing to make use of it to identify and clean the data. Convert data that matches a 'missing' or 'unknown' value code into a numpy NaN value. You might want to see how much data takes on a 'missing' or 'unknown' code, and how much data is naturally missing, as a point of interest.\n",
    "\n",
    "**As one more reminder, you are encouraged to add additional cells to break up your analysis into manageable chunks.**"
   ]
  },
  {
   "cell_type": "code",
   "execution_count": 61,
   "metadata": {},
   "outputs": [
    {
     "data": {
      "text/plain": [
       "'\\nBased on the amount of data, I am going to find the columns with the most invalid values,\\ndrop them and then convert the invalid values in the DataFrame to NaN. This will allow us\\nto perform the operations on only the data we need to operate on.\\n'"
      ]
     },
     "execution_count": 61,
     "metadata": {},
     "output_type": "execute_result"
    }
   ],
   "source": [
    "'''\n",
    "Based on the amount of data, I am going to find the columns with the most invalid values,\n",
    "drop them and then convert the invalid values in the DataFrame to NaN. This will allow us\n",
    "to perform the operations on only the data we need to operate on.\n",
    "'''"
   ]
  },
  {
   "cell_type": "code",
   "execution_count": 62,
   "metadata": {},
   "outputs": [],
   "source": [
    "# Get invalid values for certain column name returned as an array\n",
    "def get_invalid_values(column_name):\n",
    "    # Get 'invalid values' for that feature\n",
    "    # Note: the 'loc' function casts values to floats because the columns have a combination of ints and floats\n",
    "    # It doesn't not change the intrinsic numeric value of the cell\n",
    "    invalid_values = feat_info.loc[(feat_info['attribute']==column_name),'missing_or_unknown']\n",
    "    if invalid_values.empty or invalid_values.iloc[0]=='[]': return []\n",
    "    \n",
    "    # If it exists, convert it to a usable array\n",
    "    # First sanitize it to all strings since some arrays have a combination of strings and integers\n",
    "    # This is an issue because certain missing_or_unknown values are displayed as:\n",
    "    # [-1,XX], [-1,X], [XX]\n",
    "    return invalid_values.iloc[0].replace('[','').replace(']','').split(',')"
   ]
  },
  {
   "cell_type": "markdown",
   "metadata": {},
   "source": [
    "#### Step 1.1.2: Assess Missing Data in Each Column\n",
    "\n",
    "How much missing data is present in each column? There are a few columns that are outliers in terms of the proportion of values that are missing. You will want to use matplotlib's [`hist()`](https://matplotlib.org/api/_as_gen/matplotlib.pyplot.hist.html) function to visualize the distribution of missing value counts to find these columns. Identify and document these columns. While some of these columns might have justifications for keeping or re-encoding the data, for this project you should just remove them from the dataframe. (Feel free to make remarks about these outlier columns in the discussion, however!)\n",
    "\n",
    "For the remaining features, are there any patterns in which columns have, or share, missing data?"
   ]
  },
  {
   "cell_type": "code",
   "execution_count": 63,
   "metadata": {},
   "outputs": [
    {
     "name": "stderr",
     "output_type": "stream",
     "text": [
      "/opt/conda/lib/python3.6/site-packages/pandas/core/indexes/api.py:107: RuntimeWarning: '<' not supported between instances of 'float' and 'str', sort order is undefined for incomparable objects\n",
      "  result = result.union(other)\n",
      "/opt/conda/lib/python3.6/site-packages/pandas/core/indexes/api.py:107: RuntimeWarning: '>' not supported between instances of 'str' and 'float', sort order is undefined for incomparable objects\n",
      "  result = result.union(other)\n",
      "/opt/conda/lib/python3.6/site-packages/pandas/core/frame.py:7397: RuntimeWarning: '<' not supported between instances of 'float' and 'str', sort order is undefined for incomparable objects\n",
      "  index = _union_indexes(indexes)\n",
      "/opt/conda/lib/python3.6/site-packages/pandas/core/indexes/api.py:107: RuntimeWarning: '>' not supported between instances of 'float' and 'str', sort order is undefined for incomparable objects\n",
      "  result = result.union(other)\n"
     ]
    },
    {
     "data": {
      "text/plain": [
       "<matplotlib.axes._subplots.AxesSubplot at 0x7fd190b12978>"
      ]
     },
     "execution_count": 63,
     "metadata": {},
     "output_type": "execute_result"
    },
    {
     "data": {
      "image/png": "[encoded data removed]",
      "text/plain": [
       "<matplotlib.figure.Figure at 0x7fd0e90e1ba8>"
      ]
     },
     "metadata": {
      "needs_background": "light"
     },
     "output_type": "display_data"
    }
   ],
   "source": [
    "# First get the missing or unknown value counts from each column\n",
    "azdias_value_counts = azdias.apply(pd.value_counts)\n",
    "\n",
    "row_list = []\n",
    "for column in azdias_value_counts:\n",
    "    # Get this columns invalid values\n",
    "    invalid_values = get_invalid_values(column)\n",
    "    \n",
    "    # Iterate through each invalid value and find counts\n",
    "    missing_count = 0\n",
    "    for invalid_value in invalid_values:\n",
    "        # Sanitize for X and XX values\n",
    "        invalid_value = float(invalid_value) if invalid_value.lstrip('-').isnumeric() else invalid_value\n",
    "        invalid_value_count = azdias_value_counts.loc[invalid_value][column]\n",
    "        missing_count += invalid_value_count if not math.isnan(invalid_value_count) else 0\n",
    "    \n",
    "    row_list.append(missing_count)\n",
    "\n",
    "missing_indexer = pd.Series(row_list, index=azdias_value_counts.columns)\n",
    "missing_indexer.plot.hist()"
   ]
  },
  {
   "cell_type": "code",
   "execution_count": 64,
   "metadata": {},
   "outputs": [
    {
     "data": {
      "text/plain": [
       "<matplotlib.axes._subplots.AxesSubplot at 0x7fd0e90e81d0>"
      ]
     },
     "execution_count": 64,
     "metadata": {},
     "output_type": "execute_result"
    },
    {
     "data": {
      "image/png": "[encoded data removed]",
      "text/plain": [
       "<matplotlib.figure.Figure at 0x7fd0e90e8f60>"
      ]
     },
     "metadata": {
      "needs_background": "light"
     },
     "output_type": "display_data"
    }
   ],
   "source": [
    "nan_indexer = azdias.isna().sum()\n",
    "nan_indexer.plot.hist()"
   ]
  },
  {
   "cell_type": "code",
   "execution_count": 65,
   "metadata": {},
   "outputs": [
    {
     "data": {
      "text/plain": [
       "<matplotlib.axes._subplots.AxesSubplot at 0x7fd190d3c9e8>"
      ]
     },
     "execution_count": 65,
     "metadata": {},
     "output_type": "execute_result"
    },
    {
     "data": {
      "image/png": "[encoded data removed]",
      "text/plain": [
       "<matplotlib.figure.Figure at 0x7fd1909d1c50>"
      ]
     },
     "metadata": {
      "needs_background": "light"
     },
     "output_type": "display_data"
    }
   ],
   "source": [
    "value_list = []\n",
    "for key, value in nan_indexer.items():\n",
    "    value_list.append(missing_indexer[key] + nan_indexer[key])\n",
    "\n",
    "combined_indexer = pd.Series(value_list, index=azdias.columns)\n",
    "combined_indexer.plot.hist()"
   ]
  },
  {
   "cell_type": "code",
   "execution_count": 66,
   "metadata": {},
   "outputs": [
    {
     "name": "stdout",
     "output_type": "stream",
     "text": [
      "['AGER_TYP', 'GEBURTSJAHR', 'TITEL_KZ', 'ALTER_HH', 'KK_KUNDENTYP', 'KBA05_BAUMAX']\n"
     ]
    }
   ],
   "source": [
    "# Based on the combined histogram, let's pick columns that have over 200,000 missing values\n",
    "outliers = combined_indexer[combined_indexer>200000].keys().tolist()\n",
    "print(outliers)"
   ]
  },
  {
   "cell_type": "code",
   "execution_count": 67,
   "metadata": {},
   "outputs": [
    {
     "data": {
      "text/html": [
       "<div>\n",
       "<style scoped>\n",
       "    .dataframe tbody tr th:only-of-type {\n",
       "        vertical-align: middle;\n",
       "    }\n",
       "\n",
       "    .dataframe tbody tr th {\n",
       "        vertical-align: top;\n",
       "    }\n",
       "\n",
       "    .dataframe thead th {\n",
       "        text-align: right;\n",
       "    }\n",
       "</style>\n",
       "<table border=\"1\" class=\"dataframe\">\n",
       "  <thead>\n",
       "    <tr style=\"text-align: right;\">\n",
       "      <th></th>\n",
       "      <th>ALTERSKATEGORIE_GROB</th>\n",
       "      <th>ANREDE_KZ</th>\n",
       "      <th>CJT_GESAMTTYP</th>\n",
       "      <th>FINANZ_MINIMALIST</th>\n",
       "      <th>FINANZ_SPARER</th>\n",
       "      <th>FINANZ_VORSORGER</th>\n",
       "      <th>FINANZ_ANLEGER</th>\n",
       "      <th>FINANZ_UNAUFFAELLIGER</th>\n",
       "      <th>FINANZ_HAUSBAUER</th>\n",
       "      <th>FINANZTYP</th>\n",
       "      <th>...</th>\n",
       "      <th>PLZ8_ANTG1</th>\n",
       "      <th>PLZ8_ANTG2</th>\n",
       "      <th>PLZ8_ANTG3</th>\n",
       "      <th>PLZ8_ANTG4</th>\n",
       "      <th>PLZ8_BAUMAX</th>\n",
       "      <th>PLZ8_HHZ</th>\n",
       "      <th>PLZ8_GBZ</th>\n",
       "      <th>ARBEIT</th>\n",
       "      <th>ORTSGR_KLS9</th>\n",
       "      <th>RELAT_AB</th>\n",
       "    </tr>\n",
       "  </thead>\n",
       "  <tbody>\n",
       "    <tr>\n",
       "      <th>0</th>\n",
       "      <td>2</td>\n",
       "      <td>1</td>\n",
       "      <td>2.0</td>\n",
       "      <td>3</td>\n",
       "      <td>4</td>\n",
       "      <td>3</td>\n",
       "      <td>5</td>\n",
       "      <td>5</td>\n",
       "      <td>3</td>\n",
       "      <td>4</td>\n",
       "      <td>...</td>\n",
       "      <td>NaN</td>\n",
       "      <td>NaN</td>\n",
       "      <td>NaN</td>\n",
       "      <td>NaN</td>\n",
       "      <td>NaN</td>\n",
       "      <td>NaN</td>\n",
       "      <td>NaN</td>\n",
       "      <td>NaN</td>\n",
       "      <td>NaN</td>\n",
       "      <td>NaN</td>\n",
       "    </tr>\n",
       "    <tr>\n",
       "      <th>1</th>\n",
       "      <td>1</td>\n",
       "      <td>2</td>\n",
       "      <td>5.0</td>\n",
       "      <td>1</td>\n",
       "      <td>5</td>\n",
       "      <td>2</td>\n",
       "      <td>5</td>\n",
       "      <td>4</td>\n",
       "      <td>5</td>\n",
       "      <td>1</td>\n",
       "      <td>...</td>\n",
       "      <td>2.0</td>\n",
       "      <td>3.0</td>\n",
       "      <td>2.0</td>\n",
       "      <td>1.0</td>\n",
       "      <td>1.0</td>\n",
       "      <td>5.0</td>\n",
       "      <td>4.0</td>\n",
       "      <td>3.0</td>\n",
       "      <td>5.0</td>\n",
       "      <td>4.0</td>\n",
       "    </tr>\n",
       "    <tr>\n",
       "      <th>2</th>\n",
       "      <td>3</td>\n",
       "      <td>2</td>\n",
       "      <td>3.0</td>\n",
       "      <td>1</td>\n",
       "      <td>4</td>\n",
       "      <td>1</td>\n",
       "      <td>2</td>\n",
       "      <td>3</td>\n",
       "      <td>5</td>\n",
       "      <td>1</td>\n",
       "      <td>...</td>\n",
       "      <td>3.0</td>\n",
       "      <td>3.0</td>\n",
       "      <td>1.0</td>\n",
       "      <td>0.0</td>\n",
       "      <td>1.0</td>\n",
       "      <td>4.0</td>\n",
       "      <td>4.0</td>\n",
       "      <td>3.0</td>\n",
       "      <td>5.0</td>\n",
       "      <td>2.0</td>\n",
       "    </tr>\n",
       "    <tr>\n",
       "      <th>3</th>\n",
       "      <td>4</td>\n",
       "      <td>2</td>\n",
       "      <td>2.0</td>\n",
       "      <td>4</td>\n",
       "      <td>2</td>\n",
       "      <td>5</td>\n",
       "      <td>2</td>\n",
       "      <td>1</td>\n",
       "      <td>2</td>\n",
       "      <td>6</td>\n",
       "      <td>...</td>\n",
       "      <td>2.0</td>\n",
       "      <td>2.0</td>\n",
       "      <td>2.0</td>\n",
       "      <td>0.0</td>\n",
       "      <td>1.0</td>\n",
       "      <td>3.0</td>\n",
       "      <td>4.0</td>\n",
       "      <td>2.0</td>\n",
       "      <td>3.0</td>\n",
       "      <td>3.0</td>\n",
       "    </tr>\n",
       "    <tr>\n",
       "      <th>4</th>\n",
       "      <td>3</td>\n",
       "      <td>1</td>\n",
       "      <td>5.0</td>\n",
       "      <td>4</td>\n",
       "      <td>3</td>\n",
       "      <td>4</td>\n",
       "      <td>1</td>\n",
       "      <td>3</td>\n",
       "      <td>2</td>\n",
       "      <td>5</td>\n",
       "      <td>...</td>\n",
       "      <td>2.0</td>\n",
       "      <td>4.0</td>\n",
       "      <td>2.0</td>\n",
       "      <td>1.0</td>\n",
       "      <td>2.0</td>\n",
       "      <td>3.0</td>\n",
       "      <td>3.0</td>\n",
       "      <td>4.0</td>\n",
       "      <td>6.0</td>\n",
       "      <td>5.0</td>\n",
       "    </tr>\n",
       "  </tbody>\n",
       "</table>\n",
       "<p>5 rows × 79 columns</p>\n",
       "</div>"
      ],
      "text/plain": [
       "   ALTERSKATEGORIE_GROB  ANREDE_KZ  CJT_GESAMTTYP  FINANZ_MINIMALIST  \\\n",
       "0                     2          1            2.0                  3   \n",
       "1                     1          2            5.0                  1   \n",
       "2                     3          2            3.0                  1   \n",
       "3                     4          2            2.0                  4   \n",
       "4                     3          1            5.0                  4   \n",
       "\n",
       "   FINANZ_SPARER  FINANZ_VORSORGER  FINANZ_ANLEGER  FINANZ_UNAUFFAELLIGER  \\\n",
       "0              4                 3               5                      5   \n",
       "1              5                 2               5                      4   \n",
       "2              4                 1               2                      3   \n",
       "3              2                 5               2                      1   \n",
       "4              3                 4               1                      3   \n",
       "\n",
       "   FINANZ_HAUSBAUER  FINANZTYP    ...     PLZ8_ANTG1  PLZ8_ANTG2  PLZ8_ANTG3  \\\n",
       "0                 3          4    ...            NaN         NaN         NaN   \n",
       "1                 5          1    ...            2.0         3.0         2.0   \n",
       "2                 5          1    ...            3.0         3.0         1.0   \n",
       "3                 2          6    ...            2.0         2.0         2.0   \n",
       "4                 2          5    ...            2.0         4.0         2.0   \n",
       "\n",
       "   PLZ8_ANTG4  PLZ8_BAUMAX  PLZ8_HHZ  PLZ8_GBZ  ARBEIT  ORTSGR_KLS9  RELAT_AB  \n",
       "0         NaN          NaN       NaN       NaN     NaN          NaN       NaN  \n",
       "1         1.0          1.0       5.0       4.0     3.0          5.0       4.0  \n",
       "2         0.0          1.0       4.0       4.0     3.0          5.0       2.0  \n",
       "3         0.0          1.0       3.0       4.0     2.0          3.0       3.0  \n",
       "4         1.0          2.0       3.0       3.0     4.0          6.0       5.0  \n",
       "\n",
       "[5 rows x 79 columns]"
      ]
     },
     "execution_count": 67,
     "metadata": {},
     "output_type": "execute_result"
    }
   ],
   "source": [
    "# Remove the outlier columns from the dataset. (You'll perform other data\n",
    "# engineering tasks such as re-encoding and imputation later.)\n",
    "azdias.drop(outliers, axis=1, inplace=True)\n",
    "azdias.head()"
   ]
  },
  {
   "cell_type": "code",
   "execution_count": 68,
   "metadata": {},
   "outputs": [],
   "source": [
    "def replace_invalid_values(data_frame):\n",
    "    for column in data_frame:\n",
    "        invalid_values = get_invalid_values(column)\n",
    "        for invalid_value in invalid_values:\n",
    "            # Sanitize for X and XX values\n",
    "            invalid_value = float(invalid_value) if invalid_value.lstrip('-').isnumeric() else invalid_value\n",
    "            data_frame[column] = data_frame[column].replace(invalid_value, np.nan)\n",
    "    return data_frame"
   ]
  },
  {
   "cell_type": "code",
   "execution_count": 69,
   "metadata": {},
   "outputs": [],
   "source": [
    "# Now we will replace the invalid values with Numpy NaN\n",
    "azdias = replace_invalid_values(azdias)"
   ]
  },
  {
   "cell_type": "code",
   "execution_count": 70,
   "metadata": {},
   "outputs": [],
   "source": [
    "# Check for NaN values to validate\n",
    "# I'm referencing the early cell when I checked the XX values of CAMEO_DEU_2015. We want them to all return NaN now:\n",
    "# 2511   XX\n",
    "# 4569   XX\n",
    "# 9803   XX\n",
    "# 16700  XX\n",
    "# 16883  XX\n",
    "\n",
    "assert math.isnan(azdias.iloc[2511]['CAMEO_DEU_2015'])\n",
    "assert math.isnan(azdias.iloc[4569]['CAMEO_DEU_2015'])\n",
    "assert math.isnan(azdias.iloc[9803]['CAMEO_DEU_2015'])\n",
    "assert math.isnan(azdias.iloc[16700]['CAMEO_DEU_2015'])\n",
    "assert math.isnan(azdias.iloc[16883]['CAMEO_DEU_2015'])"
   ]
  },
  {
   "cell_type": "markdown",
   "metadata": {},
   "source": [
    "#### Discussion 1.1.2: Assess Missing Data in Each Column\n",
    "\n",
    "There are six columns that appeared to be significant outliers (i.e. had lots of NaN OR missing data):\n",
    "\n",
    "AGER_TYP  \n",
    "GEBURTSJAHR  \n",
    "TITEL_KZ  \n",
    "ALTER_HH  \n",
    "KK_KUNDENTYP  \n",
    "KBA05_BAUMAX  \n",
    "\n",
    "This were all removed from the data.\n",
    "\n",
    "There was a decent amount of missing data in the other columns but it was relatively consistent so we will proceed by accepting that margin of error in the data. When investigating the frequency of missing data in the columns after combining both NaN and missing_or_unknown data, there were only six (of eighty five) columns that had over 200,000 missing cells of data so we determined those were outliers."
   ]
  },
  {
   "cell_type": "markdown",
   "metadata": {},
   "source": [
    "#### Step 1.1.3: Assess Missing Data in Each Row\n",
    "\n",
    "Now, you'll perform a similar assessment for the rows of the dataset. How much data is missing in each row? As with the columns, you should see some groups of points that have a very different numbers of missing values. Divide the data into two subsets: one for data points that are above some threshold for missing values, and a second subset for points below that threshold.\n",
    "\n",
    "In order to know what to do with the outlier rows, we should see if the distribution of data values on columns that are not missing data (or are missing very little data) are similar or different between the two groups. Select at least five of these columns and compare the distribution of values.\n",
    "- You can use seaborn's [`countplot()`](https://seaborn.pydata.org/generated/seaborn.countplot.html) function to create a bar chart of code frequencies and matplotlib's [`subplot()`](https://matplotlib.org/api/_as_gen/matplotlib.pyplot.subplot.html) function to put bar charts for the two subplots side by side.\n",
    "- To reduce repeated code, you might want to write a function that can perform this comparison, taking as one of its arguments a column to be compared.\n",
    "\n",
    "Depending on what you observe in your comparison, this will have implications on how you approach your conclusions later in the analysis. If the distributions of non-missing features look similar between the data with many missing values and the data with few or no missing values, then we could argue that simply dropping those points from the analysis won't present a major issue. On the other hand, if the data with many missing values looks very different from the data with few or no missing values, then we should make a note on those data as special. We'll revisit these data later on. **Either way, you should continue your analysis for now using just the subset of the data with few or no missing values.**"
   ]
  },
  {
   "cell_type": "code",
   "execution_count": 71,
   "metadata": {},
   "outputs": [],
   "source": [
    "# How much data is missing in each row of the dataset?\n",
    "nan_sums_per_row = azdias.isnull().sum(axis=1)\n",
    "\n",
    "# Convert to DataFrame so it's easier to plot\n",
    "nan_sums_df = pd.DataFrame({'missing_count':nan_sums_per_row.values})"
   ]
  },
  {
   "cell_type": "code",
   "execution_count": 72,
   "metadata": {},
   "outputs": [],
   "source": [
    "# Write code to divide the data into two subsets based on the number of missing\n",
    "# values in each row.\n",
    "\n",
    "# Threshold for split of data; starting with at least fifty percent existing\n",
    "threshold = len(azdias.columns) / 2\n",
    "\n",
    "nan_sums_low = nan_sums_df[nan_sums_df['missing_count']<threshold]\n",
    "nan_sums_high = nan_sums_df[nan_sums_df['missing_count']>=threshold] # Outliers"
   ]
  },
  {
   "cell_type": "code",
   "execution_count": 73,
   "metadata": {},
   "outputs": [
    {
     "data": {
      "text/plain": [
       "<matplotlib.axes._subplots.AxesSubplot at 0x7fd0cf1b1e80>"
      ]
     },
     "execution_count": 73,
     "metadata": {},
     "output_type": "execute_result"
    },
    {
     "data": {
      "image/png": "[encoded data removed]",
      "text/plain": [
       "<matplotlib.figure.Figure at 0x7fd190be47f0>"
      ]
     },
     "metadata": {
      "needs_background": "light"
     },
     "output_type": "display_data"
    }
   ],
   "source": [
    "# Display frequencies of missing values\n",
    "fig, ax = plt.subplots(1,2,figsize=(20, 5))\n",
    "sns.countplot(x='missing_count',data=nan_sums_low, ax=ax[0])\n",
    "sns.countplot(x='missing_count',data=nan_sums_high, ax=ax[1])"
   ]
  },
  {
   "cell_type": "code",
   "execution_count": 74,
   "metadata": {},
   "outputs": [],
   "source": [
    "def plot_side_by_side_column(column):\n",
    "    fig, ax = plt.subplots(1,2,figsize=(20, 5))\n",
    "    sns.countplot(azdias.loc[nan_sums_low.index,column], ax=ax[0]).set_title('Few or no missing')\n",
    "    sns.countplot(azdias.loc[nan_sums_high.index,column], ax=ax[1]).set_title('Many missing')"
   ]
  },
  {
   "cell_type": "code",
   "execution_count": 75,
   "metadata": {},
   "outputs": [
    {
     "name": "stdout",
     "output_type": "stream",
     "text": [
      "['FINANZ_SPARER', 'FINANZ_VORSORGER', 'ANREDE_KZ', 'FINANZTYP', 'SEMIO_SOZ']\n"
     ]
    }
   ],
   "source": [
    "# Find five columns that have a very low percentage of missing values\n",
    "# Pull columns with no missing values and see there are enough\n",
    "non_outliers = combined_indexer[combined_indexer==0]\n",
    "compare_columns = non_outliers.sample(n=5).index.tolist()\n",
    "print(compare_columns)"
   ]
  },
  {
   "cell_type": "code",
   "execution_count": 76,
   "metadata": {
    "scrolled": true
   },
   "outputs": [
    {
     "data": {
      "image/png": "[encoded data removed]",
      "text/plain": [
       "<matplotlib.figure.Figure at 0x7fd190025358>"
      ]
     },
     "metadata": {
      "needs_background": "light"
     },
     "output_type": "display_data"
    },
    {
     "data": {
      "image/png": "[encoded data removed]",
      "text/plain": [
       "<matplotlib.figure.Figure at 0x7fd18fee7c88>"
      ]
     },
     "metadata": {
      "needs_background": "light"
     },
     "output_type": "display_data"
    },
    {
     "data": {
      "image/png": "[encoded data removed]",
      "text/plain": [
       "<matplotlib.figure.Figure at 0x7fd18ff0e2b0>"
      ]
     },
     "metadata": {
      "needs_background": "light"
     },
     "output_type": "display_data"
    },
    {
     "data": {
      "image/png": "[encoded data removed]",
      "text/plain": [
       "<matplotlib.figure.Figure at 0x7fd18fdec748>"
      ]
     },
     "metadata": {
      "needs_background": "light"
     },
     "output_type": "display_data"
    },
    {
     "data": {
      "image/png": "[encoded data removed]",
      "text/plain": [
       "<matplotlib.figure.Figure at 0x7fd18fdad2b0>"
      ]
     },
     "metadata": {
      "needs_background": "light"
     },
     "output_type": "display_data"
    }
   ],
   "source": [
    "# Compare the distribution of values for at least five columns where there are\n",
    "# no or few missing values, between the two subsets.\n",
    "\n",
    "for i in range(len(compare_columns)):   \n",
    "    plot_side_by_side_column(compare_columns[i])"
   ]
  },
  {
   "cell_type": "code",
   "execution_count": 77,
   "metadata": {},
   "outputs": [
    {
     "name": "stdout",
     "output_type": "stream",
     "text": [
      "Before length: 891221\n",
      "After length: 817108\n"
     ]
    }
   ],
   "source": [
    "# Prune off a portion of the full dataset to run analysis on moving forward\n",
    "print(\"Before length: \" + str(len(azdias)))\n",
    "azdias = azdias.loc[nan_sums_low.index]\n",
    "print(\"After length: \" + str(len(azdias)))"
   ]
  },
  {
   "cell_type": "markdown",
   "metadata": {},
   "source": [
    "#### Discussion 1.1.3: Assess Missing Data in Each Row\n",
    "\n",
    "It appears that most of the comparisons are showing qualitatively different output of distributions of values. The rows with many missing values tend to all be very similar with the values of each column. The ones with few or no missing values are distributed more evenly between the values that are displayed."
   ]
  },
  {
   "cell_type": "markdown",
   "metadata": {},
   "source": [
    "### Step 1.2: Select and Re-Encode Features\n",
    "\n",
    "Checking for missing data isn't the only way in which you can prepare a dataset for analysis. Since the unsupervised learning techniques to be used will only work on data that is encoded numerically, you need to make a few encoding changes or additional assumptions to be able to make progress. In addition, while almost all of the values in the dataset are encoded using numbers, not all of them represent numeric values. Check the third column of the feature summary (`feat_info`) for a summary of types of measurement.\n",
    "- For numeric and interval data, these features can be kept without changes.\n",
    "- Most of the variables in the dataset are ordinal in nature. While ordinal values may technically be non-linear in spacing, make the simplifying assumption that the ordinal variables can be treated as being interval in nature (that is, kept without any changes).\n",
    "- Special handling may be necessary for the remaining two variable types: categorical, and 'mixed'.\n",
    "\n",
    "In the first two parts of this sub-step, you will perform an investigation of the categorical and mixed-type features and make a decision on each of them, whether you will keep, drop, or re-encode each. Then, in the last part, you will create a new data frame with only the selected and engineered columns.\n",
    "\n",
    "Data wrangling is often the trickiest part of the data analysis process, and there's a lot of it to be done here. But stick with it: once you're done with this step, you'll be ready to get to the machine learning parts of the project!"
   ]
  },
  {
   "cell_type": "code",
   "execution_count": 78,
   "metadata": {},
   "outputs": [
    {
     "name": "stdout",
     "output_type": "stream",
     "text": [
      "['categorical' 'ordinal' 'numeric' 'mixed' 'interval']\n"
     ]
    }
   ],
   "source": [
    "feat_third_column = feat_info.iloc[:,[2]]\n",
    "measurement_types = feat_third_column['type'].unique()\n",
    "print(measurement_types)"
   ]
  },
  {
   "cell_type": "code",
   "execution_count": 79,
   "metadata": {},
   "outputs": [
    {
     "data": {
      "text/plain": [
       "ordinal        49\n",
       "categorical    21\n",
       "numeric         7\n",
       "mixed           7\n",
       "interval        1\n",
       "Name: type, dtype: int64"
      ]
     },
     "execution_count": 79,
     "metadata": {},
     "output_type": "execute_result"
    },
    {
     "data": {
      "image/png": "[encoded data removed]",
      "text/plain": [
       "<matplotlib.figure.Figure at 0x7fd190c494e0>"
      ]
     },
     "metadata": {
      "needs_background": "light"
     },
     "output_type": "display_data"
    }
   ],
   "source": [
    "# How many features are there of each data type?\n",
    "sns.countplot(x='type',data=feat_third_column)\n",
    "feat_third_column.type.value_counts()"
   ]
  },
  {
   "cell_type": "markdown",
   "metadata": {},
   "source": [
    "#### Step 1.2.1: Re-Encode Categorical Features\n",
    "\n",
    "For categorical data, you would ordinarily need to encode the levels as dummy variables. Depending on the number of categories, perform one of the following:\n",
    "- For binary (two-level) categoricals that take numeric values, you can keep them without needing to do anything.\n",
    "- There is one binary variable that takes on non-numeric values. For this one, you need to re-encode the values as numbers or create a dummy variable.\n",
    "- For multi-level categoricals (three or more values), you can choose to encode the values using multiple dummy variables (e.g. via [OneHotEncoder](http://scikit-learn.org/stable/modules/generated/sklearn.preprocessing.OneHotEncoder.html)), or (to keep things straightforward) just drop them from the analysis. As always, document your choices in the Discussion section."
   ]
  },
  {
   "cell_type": "code",
   "execution_count": 80,
   "metadata": {},
   "outputs": [],
   "source": [
    "# Assess categorical variables: which are binary, which are multi-level, and\n",
    "# which one needs to be re-encoded?\n",
    "\n",
    "# Get all column names where type is 'categorical'\n",
    "categorical_variables = feat_info[feat_info.type=='categorical']['attribute']\n",
    "\n",
    "# Filter out column names that were already removed from the dataset\n",
    "categorical_variables = [categorical_v for categorical_v in categorical_variables if categorical_v in azdias.columns]"
   ]
  },
  {
   "cell_type": "code",
   "execution_count": 81,
   "metadata": {},
   "outputs": [],
   "source": [
    "# Check if column is binary and numeric\n",
    "# Returns 'multi-level', 'non-binary', 'numeric' or 'non-numeric'\n",
    "def check_binary_and_numeric(column_name):\n",
    "    # Calculate how many unique values are in each column; we are looking for columns with 2 (i.e. binary)\n",
    "    num_unique = azdias[column_name].nunique()\n",
    "    if num_unique > 2: return 'multi-level'\n",
    "    if num_unique != 2: return 'non-binary' # all others that aren't binary\n",
    "    if is_numeric_dtype(azdias[column_name]): return 'numeric'\n",
    "    if is_string_dtype(azdias[column_name]): return 'non-numeric'\n",
    "    \n",
    "    return 'error'"
   ]
  },
  {
   "cell_type": "code",
   "execution_count": 82,
   "metadata": {},
   "outputs": [
    {
     "name": "stdout",
     "output_type": "stream",
     "text": [
      "# of multi level: 13\n",
      "# of non binary: 0\n",
      "# of numeric: 4\n",
      "# of non_numeric: 1\n"
     ]
    }
   ],
   "source": [
    "multi_level_list = []\n",
    "non_binary_list = []\n",
    "numeric_list = []\n",
    "non_numeric_list = []\n",
    "\n",
    "for categorical_v in categorical_variables:\n",
    "    check_column = check_binary_and_numeric(categorical_v)\n",
    "    \n",
    "    if check_column == 'multi-level':\n",
    "        multi_level_list.append(categorical_v)\n",
    "        continue\n",
    "        \n",
    "    if check_column == 'non-binary':\n",
    "        non_binary_list.append(categorical_v)\n",
    "        continue\n",
    "\n",
    "    if check_column == 'numeric':\n",
    "        numeric_list.append(categorical_v)\n",
    "        continue\n",
    "    \n",
    "    if check_column == 'non-numeric':\n",
    "        non_numeric_list.append(categorical_v)\n",
    "        continue\n",
    "\n",
    "    raise(\"There was an error. Please check data.\")\n",
    "\n",
    "assert len(non_numeric_list) == 1 # As mentioned, there should only be one\n",
    "\n",
    "print(\"# of multi level: \" + str(len(multi_level_list)))\n",
    "print(\"# of non binary: \" + str(len(non_binary_list)))\n",
    "print(\"# of numeric: \" + str(len(numeric_list)))\n",
    "print(\"# of non_numeric: \" + str(len(non_numeric_list)))"
   ]
  },
  {
   "cell_type": "code",
   "execution_count": 83,
   "metadata": {},
   "outputs": [],
   "source": [
    "# Re-encode categorical variable(s) to be kept in the analysis.\n",
    "\n",
    "# Non-numeric column\n",
    "non_numeric_column = non_numeric_list[0]\n",
    "unique_values = azdias[non_numeric_column].dropna().unique().tolist()\n",
    "\n",
    "# We'll update the two values with integers 1 and 2 (not using 0 and 1 since 0 can be interpretted as False in Boolean comparisons)\n",
    "azdias[non_numeric_column].replace(unique_values,[1,2], inplace=True)"
   ]
  },
  {
   "cell_type": "code",
   "execution_count": 84,
   "metadata": {},
   "outputs": [],
   "source": [
    "# Get values that should result for each column we are going to one hot encode to validate their successful creation\n",
    "encoded_column_names = []\n",
    "for multi_level in multi_level_list:\n",
    "    unique_values = azdias[multi_level].dropna().unique()\n",
    "    for unique_value in unique_values:\n",
    "        encoded_column_names.append(str(multi_level) + '_' + str(unique_value))\n",
    "\n",
    "# One hot encode multi-level list. Get_dummies is the way to do this in pandas\n",
    "azdias = pd.get_dummies(azdias, columns=multi_level_list)"
   ]
  },
  {
   "cell_type": "code",
   "execution_count": 85,
   "metadata": {},
   "outputs": [],
   "source": [
    "# Assert that the encoded_column_names now exist\n",
    "assert set(encoded_column_names).issubset(azdias.columns)"
   ]
  },
  {
   "cell_type": "markdown",
   "metadata": {},
   "source": [
    "#### Discussion 1.2.1: Re-Encode Categorical Features\n",
    "\n",
    "Here are the types and frequencies of types of categorical features:\n",
    "\n",
    "Multi level: 13\n",
    "Numeric binary: 4\n",
    "Non-numeric binary: 1\n",
    "\n",
    "I chose to keep the multi-level columns in the dataset and use get_dummies to one-hot encode them since there were quite a few columns (13 is significant in this dataset).\n",
    "\n",
    "For the non-numeric binary column, I chose to use the values 1 and 2 to replace the two string characters being used. I would normally use 0 and 1 but in this case, with so many NaN values, I didn't want any confusion when using 0 since it can be interpretted as null, False, etc. when doing truthy comparisons.\n",
    "\n",
    "All multi-level columns that were one hot encoding after the process was complete were dropped by the get_dummies function to minimize the dataset."
   ]
  },
  {
   "cell_type": "markdown",
   "metadata": {},
   "source": [
    "#### Step 1.2.2: Engineer Mixed-Type Features\n",
    "\n",
    "There are a handful of features that are marked as \"mixed\" in the feature summary that require special treatment in order to be included in the analysis. There are two in particular that deserve attention; the handling of the rest are up to your own choices:\n",
    "- \"PRAEGENDE_JUGENDJAHRE\" combines information on three dimensions: generation by decade, movement (mainstream vs. avantgarde), and nation (east vs. west). While there aren't enough levels to disentangle east from west, you should create two new variables to capture the other two dimensions: an interval-type variable for decade, and a binary variable for movement.\n",
    "- \"CAMEO_INTL_2015\" combines information on two axes: wealth and life stage. Break up the two-digit codes by their 'tens'-place and 'ones'-place digits into two new ordinal variables (which, for the purposes of this project, is equivalent to just treating them as their raw numeric values).\n",
    "- If you decide to keep or engineer new features around the other mixed-type features, make sure you note your steps in the Discussion section.\n",
    "\n",
    "Be sure to check `Data_Dictionary.md` for the details needed to finish these tasks."
   ]
  },
  {
   "cell_type": "code",
   "execution_count": 86,
   "metadata": {},
   "outputs": [
    {
     "name": "stdout",
     "output_type": "stream",
     "text": [
      "[ 14.  15.   8.   3.  10.  11.   5.   9.   6.   4.  nan   2.   1.  12.  13.\n",
      "   7.]\n"
     ]
    }
   ],
   "source": [
    "# Investigate \"PRAEGENDE_JUGENDJAHRE\" and engineer two new variables.\n",
    "print(azdias['PRAEGENDE_JUGENDJAHRE'].unique())"
   ]
  },
  {
   "cell_type": "code",
   "execution_count": 87,
   "metadata": {},
   "outputs": [],
   "source": [
    "# From Data_Dictionary.md\n",
    "'''\n",
    "Dominating movement of person's youth (avantgarde vs. mainstream; east vs. west)\n",
    "- -1: unknown\n",
    "-  0: unknown\n",
    "-  1: 40s - war years (Mainstream, E+W)\n",
    "-  2: 40s - reconstruction years (Avantgarde, E+W)\n",
    "-  3: 50s - economic miracle (Mainstream, E+W)\n",
    "-  4: 50s - milk bar / Individualisation (Avantgarde, E+W)\n",
    "-  5: 60s - economic miracle (Mainstream, E+W)\n",
    "-  6: 60s - generation 68 / student protestors (Avantgarde, W)\n",
    "-  7: 60s - opponents to the building of the Wall (Avantgarde, E)\n",
    "-  8: 70s - family orientation (Mainstream, E+W)\n",
    "-  9: 70s - peace movement (Avantgarde, E+W)\n",
    "- 10: 80s - Generation Golf (Mainstream, W)\n",
    "- 11: 80s - ecological awareness (Avantgarde, W)\n",
    "- 12: 80s - FDJ / communist party youth organisation (Mainstream, E)\n",
    "- 13: 80s - Swords into ploughshares (Avantgarde, E)\n",
    "- 14: 90s - digital media kids (Mainstream, E+W)\n",
    "- 15: 90s - ecological awareness (Avantgarde, E+W)\n",
    "'''\n",
    "\n",
    "def decade_movement(number):\n",
    "    if math.isnan(number):\n",
    "        number = 0\n",
    "    \n",
    "    # Mainstream = 1\n",
    "    # Avantgrade = 2\n",
    "    \n",
    "    # All decades remain, except 0 stripped from end to use less bytes\n",
    "    data_definitions = {\n",
    "        -1 : {\n",
    "            'decade':0,\n",
    "            'movement':0\n",
    "        },\n",
    "        0 : {\n",
    "            'decade':0,\n",
    "            'movement':0\n",
    "        },\n",
    "        1 : {\n",
    "            'decade':4,\n",
    "            'movement':1\n",
    "        },\n",
    "        2 : {\n",
    "            'decade':4,\n",
    "            'movement':2\n",
    "        },\n",
    "        3 : {\n",
    "            'decade':5,\n",
    "            'movement':1\n",
    "        },\n",
    "        4 : {\n",
    "            'decade':5,\n",
    "            'movement':2\n",
    "        },\n",
    "        5 : {\n",
    "            'decade':6,\n",
    "            'movement':1\n",
    "        },\n",
    "        6 : {\n",
    "            'decade':6,\n",
    "            'movement':2\n",
    "        },\n",
    "        7 : {\n",
    "            'decade':6,\n",
    "            'movement':2\n",
    "        },\n",
    "        8 : {\n",
    "            'decade':7,\n",
    "            'movement':1\n",
    "        },\n",
    "        9 : {\n",
    "            'decade':7,\n",
    "            'movement':2\n",
    "        },\n",
    "        10 : {\n",
    "            'decade':8,\n",
    "            'movement':1\n",
    "        },\n",
    "        11 : {\n",
    "            'decade':8,\n",
    "            'movement':2\n",
    "        },\n",
    "        12 : {\n",
    "            'decade':8,\n",
    "            'movement':1\n",
    "        },\n",
    "        13 : {\n",
    "            'decade':8,\n",
    "            'movement':2\n",
    "        },\n",
    "        14 : {\n",
    "            'decade':9,\n",
    "            'movement':1\n",
    "        },\n",
    "        15 : {\n",
    "            'decade':9,\n",
    "            'movement':2\n",
    "        }\n",
    "    }\n",
    "        \n",
    "    return data_definitions[number]['decade'], data_definitions[number]['movement']"
   ]
  },
  {
   "cell_type": "code",
   "execution_count": 88,
   "metadata": {},
   "outputs": [],
   "source": [
    "azdias['PRAEGENDE_JUGENDJAHRE_DECADE'] = azdias.apply(lambda row: decade_movement(row['PRAEGENDE_JUGENDJAHRE'])[0], axis=1)\n",
    "azdias['PRAEGENDE_JUGENDJAHRE_MOVEMENT'] = azdias.apply(lambda row: decade_movement(row['PRAEGENDE_JUGENDJAHRE'])[1], axis=1)"
   ]
  },
  {
   "cell_type": "code",
   "execution_count": 89,
   "metadata": {},
   "outputs": [
    {
     "data": {
      "text/plain": [
       "1    1\n",
       "2    2\n",
       "3    1\n",
       "4    1\n",
       "5    1\n",
       "Name: PRAEGENDE_JUGENDJAHRE_MOVEMENT, dtype: int64"
      ]
     },
     "execution_count": 89,
     "metadata": {},
     "output_type": "execute_result"
    }
   ],
   "source": [
    "azdias['PRAEGENDE_JUGENDJAHRE_MOVEMENT'].head()"
   ]
  },
  {
   "cell_type": "code",
   "execution_count": 90,
   "metadata": {},
   "outputs": [
    {
     "data": {
      "text/plain": [
       "1    9\n",
       "2    9\n",
       "3    7\n",
       "4    7\n",
       "5    5\n",
       "Name: PRAEGENDE_JUGENDJAHRE_DECADE, dtype: int64"
      ]
     },
     "execution_count": 90,
     "metadata": {},
     "output_type": "execute_result"
    }
   ],
   "source": [
    "azdias['PRAEGENDE_JUGENDJAHRE_DECADE'].head()"
   ]
  },
  {
   "cell_type": "code",
   "execution_count": 91,
   "metadata": {},
   "outputs": [
    {
     "name": "stdout",
     "output_type": "stream",
     "text": [
      "Unique values for CAMEO INTL 2015 column: \n",
      "['51' '24' '12' '43' '54' '22' '14' '13' '15' '33' '41' '34' '55' nan '25'\n",
      " '23' '31' '52' '35' '45' '44' '32']\n"
     ]
    }
   ],
   "source": [
    "# Investigate \"CAMEO_INTL_2015\" and engineer two new variables.\n",
    "print(\"Unique values for CAMEO INTL 2015 column: \")\n",
    "print(azdias['CAMEO_INTL_2015'].unique())"
   ]
  },
  {
   "cell_type": "code",
   "execution_count": 92,
   "metadata": {},
   "outputs": [],
   "source": [
    "def get_ones_and_tens(row, ones=False):\n",
    "    number_value = row['CAMEO_INTL_2015']\n",
    "    \n",
    "    if math.isnan(float(number_value)):\n",
    "        return np.nan\n",
    "    \n",
    "    assert len(number_value) == 2\n",
    "    \n",
    "    split_num = [int(num) for num in str(number_value)]\n",
    "        \n",
    "    return split_num[0] if ones==False else split_num[1]"
   ]
  },
  {
   "cell_type": "code",
   "execution_count": 93,
   "metadata": {},
   "outputs": [],
   "source": [
    "# Reference: https://stackoverflow.com/a/26887820/975592\n",
    "# Create two new variables\n",
    "azdias['CAMEO_INTL_2015_TENS'] = azdias.apply(lambda row: get_ones_and_tens(row), axis=1)\n",
    "azdias['CAMEO_INTL_2015_ONES'] = azdias.apply(lambda row: get_ones_and_tens(row, ones=True), axis=1)"
   ]
  },
  {
   "cell_type": "code",
   "execution_count": 94,
   "metadata": {},
   "outputs": [
    {
     "data": {
      "text/plain": [
       "1    1.0\n",
       "2    4.0\n",
       "3    2.0\n",
       "4    3.0\n",
       "5    4.0\n",
       "Name: CAMEO_INTL_2015_ONES, dtype: float64"
      ]
     },
     "execution_count": 94,
     "metadata": {},
     "output_type": "execute_result"
    }
   ],
   "source": [
    "azdias['CAMEO_INTL_2015_ONES'].head()"
   ]
  },
  {
   "cell_type": "code",
   "execution_count": 95,
   "metadata": {},
   "outputs": [
    {
     "data": {
      "text/plain": [
       "1    5.0\n",
       "2    2.0\n",
       "3    1.0\n",
       "4    4.0\n",
       "5    5.0\n",
       "Name: CAMEO_INTL_2015_TENS, dtype: float64"
      ]
     },
     "execution_count": 95,
     "metadata": {},
     "output_type": "execute_result"
    }
   ],
   "source": [
    "azdias['CAMEO_INTL_2015_TENS'].head()"
   ]
  },
  {
   "cell_type": "code",
   "execution_count": 96,
   "metadata": {},
   "outputs": [],
   "source": [
    "# First assert that the new columns have been created\n",
    "assert 'CAMEO_INTL_2015_ONES' in azdias.columns\n",
    "assert 'CAMEO_INTL_2015_TENS' in azdias.columns\n",
    "\n",
    "assert 'PRAEGENDE_JUGENDJAHRE_DECADE' in azdias.columns\n",
    "assert 'PRAEGENDE_JUGENDJAHRE_MOVEMENT' in azdias.columns\n",
    "\n",
    "# Drop the original column to minimize dataset\n",
    "azdias.drop('CAMEO_INTL_2015', axis=1, inplace=True)\n",
    "azdias.drop('PRAEGENDE_JUGENDJAHRE', axis=1, inplace=True)"
   ]
  },
  {
   "cell_type": "markdown",
   "metadata": {},
   "source": [
    "#### Discussion 1.2.2: Engineer Mixed-Type Features\n",
    "\n",
    "I split the PRAEGENDE_JUGENDJAHRE values into two different variables PRAEGENDE_JUGENDJAHRE_DECADE and PRAEGENDE_JUGENDJAHRE_MOVEMENT by creating a reference dictionary based on the data in the Data_Dictionary.md file. For decades, I took the values from the dictionary and removed the 0 on the end since they all followed the same format. I figured removed the one trailing integer is less bytes, thus less data ultimately (even if it's only a slight change in improvement, everything helps when dealing with large datasets!). There were 15 unique values, so it matched up with the reference data with the exclusion of -1 and 0 which were never present. I still put a check in there for that and declared a value of 0 if present. There were NaN values though that I do clean for and return 0 values if they appear.\n",
    "\n",
    "For CAMEO_INTL_2015, I filtered out NaN values and then split the 2 digit number into the 'tens' value and the 'ones' value. Pretty straightforward. There were no outliers (i.e. all were either NaN or a two digit number). There were 21 unique values in the column excluding NaN.\n",
    "\n",
    "After completing the operations, I asserted that the two columns existed and if those tests passed, I dropped the original columns to minimize the dataset."
   ]
  },
  {
   "cell_type": "markdown",
   "metadata": {},
   "source": [
    "#### Step 1.2.3: Complete Feature Selection\n",
    "\n",
    "In order to finish this step up, you need to make sure that your data frame now only has the columns that you want to keep. To summarize, the dataframe should consist of the following:\n",
    "- All numeric, interval, and ordinal type columns from the original dataset.\n",
    "- Binary categorical features (all numerically-encoded).\n",
    "- Engineered features from other multi-level categorical features and mixed features.\n",
    "\n",
    "Make sure that for any new columns that you have engineered, that you've excluded the original columns from the final dataset. Otherwise, their values will interfere with the analysis later on the project. For example, you should not keep \"PRAEGENDE_JUGENDJAHRE\", since its values won't be useful for the algorithm: only the values derived from it in the engineered features you created should be retained. As a reminder, your data should only be from **the subset with few or no missing values**."
   ]
  },
  {
   "cell_type": "code",
   "execution_count": 97,
   "metadata": {},
   "outputs": [],
   "source": [
    "# If there are other re-engineering tasks you need to perform, make sure you\n",
    "# take care of them here. (Dealing with missing data will come in step 2.1.)\n",
    "def data_frame_unit_test(data_frame):\n",
    "    mixed_type = ['CAMEO_INTL_2015', 'PRAEGENDE_JUGENDJAHRE']\n",
    "    removed_columns = mixed_type + outliers + multi_level_list\n",
    "\n",
    "    # Make sure columns were dropped successfully\n",
    "    assert 'CAMEO_INTL_2015' not in data_frame.columns\n",
    "    assert 'PRAEGENDE_JUGENDJAHRE' not in data_frame.columns\n",
    "    assert not set(multi_level_list).issubset(data_frame.columns)\n",
    "    assert not set(outliers).issubset(data_frame.columns)\n",
    "\n",
    "    # Process unchanged columns and assert their presence\n",
    "    unchanged_columns = feat_info[\n",
    "        ~(\n",
    "            (feat_info.type=='numeric') | \n",
    "            (feat_info.type=='interval') | \n",
    "            (feat_info.type=='ordinal')\n",
    "         )\n",
    "    ]['attribute']\n",
    "\n",
    "    unchanged_columns = unchanged_columns[~unchanged_columns.isin(removed_columns)]\n",
    "\n",
    "    assert set(unchanged_columns).issubset(data_frame.columns)\n",
    "\n",
    "    # Check for binary one hot encoded columns\n",
    "    assert set(encoded_column_names).issubset(data_frame.columns)"
   ]
  },
  {
   "cell_type": "code",
   "execution_count": 98,
   "metadata": {},
   "outputs": [],
   "source": [
    "# Do whatever you need to in order to ensure that the dataframe only contains\n",
    "# the columns that should be passed to the algorithm functions.\n",
    "data_frame_unit_test(azdias)"
   ]
  },
  {
   "cell_type": "markdown",
   "metadata": {},
   "source": [
    "### Step 1.3: Create a Cleaning Function\n",
    "\n",
    "Even though you've finished cleaning up the general population demographics data, it's important to look ahead to the future and realize that you'll need to perform the same cleaning steps on the customer demographics data. In this substep, complete the function below to execute the main feature selection, encoding, and re-engineering steps you performed above. Then, when it comes to looking at the customer data in Step 3, you can just run this function on that DataFrame to get the trimmed dataset in a single step."
   ]
  },
  {
   "cell_type": "code",
   "execution_count": 99,
   "metadata": {},
   "outputs": [],
   "source": [
    "def clean_data(df):\n",
    "    \"\"\"\n",
    "    Perform feature trimming, re-encoding, and engineering for demographics\n",
    "    data\n",
    "    \n",
    "    INPUT: Demographics DataFrame\n",
    "    OUTPUT: Trimmed and cleaned demographics DataFrame\n",
    "    \"\"\"\n",
    "    \n",
    "    # Put in code here to execute all main cleaning steps:\n",
    "    # convert missing value codes into NaNs, ...\n",
    "    df = replace_invalid_values(df)\n",
    "    \n",
    "    # Prune off a portion of the full dataset to run analysis on moving forward\n",
    "    df = df.loc[nan_sums_low.index]\n",
    "    \n",
    "    # remove selected columns and rows, ...\n",
    "    df.drop(outliers, axis=1, inplace=True)\n",
    "    \n",
    "    # select, re-encode, and engineer column values.\n",
    "    # Non-numeric column\n",
    "    non_numeric_column = non_numeric_list[0]\n",
    "    unique_values = df[non_numeric_column].dropna().unique().tolist()\n",
    "    df[non_numeric_column].replace(unique_values,[1,2], inplace=True)\n",
    "\n",
    "    df = pd.get_dummies(df, columns=multi_level_list)\n",
    "    \n",
    "    df['PRAEGENDE_JUGENDJAHRE_DECADE'] = df.apply(lambda row: decade_movement(row['PRAEGENDE_JUGENDJAHRE'])[0], axis=1)\n",
    "    df['PRAEGENDE_JUGENDJAHRE_MOVEMENT'] = df.apply(lambda row: decade_movement(row['PRAEGENDE_JUGENDJAHRE'])[1], axis=1)\n",
    "\n",
    "    df['CAMEO_INTL_2015_TENS'] = df.apply(lambda row: get_ones_and_tens(row), axis=1)\n",
    "    df['CAMEO_INTL_2015_ONES'] = df.apply(lambda row: get_ones_and_tens(row, ones=True), axis=1)\n",
    "    \n",
    "    df.drop('CAMEO_INTL_2015', axis=1, inplace=True)\n",
    "    df.drop('PRAEGENDE_JUGENDJAHRE', axis=1, inplace=True)\n",
    "    \n",
    "    # Run unit test to confirm everything validates\n",
    "    data_frame_unit_test(df)\n",
    "    \n",
    "    # Return the cleaned dataframe.\n",
    "    return df\n",
    "    "
   ]
  },
  {
   "cell_type": "code",
   "execution_count": 46,
   "metadata": {},
   "outputs": [
    {
     "name": "stdout",
     "output_type": "stream",
     "text": [
      "Dataframes match!\n"
     ]
    }
   ],
   "source": [
    "# Start fresh to confirm\n",
    "before_azdias_length = len(azdias)\n",
    "before_azdias_column_length = len(azdias.columns)\n",
    "before_azdias_column_names = azdias.columns\n",
    "\n",
    "azdias_new = pd.read_csv('Udacity_AZDIAS_Subset.csv', delimiter=';')\n",
    "azdias_new = clean_data(azdias_new)\n",
    "\n",
    "after_azdias_length = len(azdias_new)\n",
    "after_azdias_column_length = len(azdias_new.columns)\n",
    "after_azdias_column_names = azdias_new.columns\n",
    "\n",
    "# These should match\n",
    "# Being verbose initially to make sure to catch any issues if they arise\n",
    "assert before_azdias_length == after_azdias_length\n",
    "assert before_azdias_column_length == after_azdias_column_length\n",
    "assert (before_azdias_column_names==after_azdias_column_names).all()\n",
    "\n",
    "# And finally, the dataframes should be identical matches\n",
    "try:\n",
    "    assert_frame_equal(azdias, azdias_new)\n",
    "    print(\"Dataframes match!\")\n",
    "except:\n",
    "    print(\"Dataframes do not match. Please try again.\")"
   ]
  },
  {
   "cell_type": "markdown",
   "metadata": {},
   "source": [
    "## Step 2: Feature Transformation\n",
    "\n",
    "### Step 2.1: Apply Feature Scaling\n",
    "\n",
    "Before we apply dimensionality reduction techniques to the data, we need to perform feature scaling so that the principal component vectors are not influenced by the natural differences in scale for features. Starting from this part of the project, you'll want to keep an eye on the [API reference page for sklearn](http://scikit-learn.org/stable/modules/classes.html) to help you navigate to all of the classes and functions that you'll need. In this substep, you'll need to check the following:\n",
    "\n",
    "- sklearn requires that data not have missing values in order for its estimators to work properly. So, before applying the scaler to your data, make sure that you've cleaned the DataFrame of the remaining missing values. This can be as simple as just removing all data points with missing data, or applying an [Imputer](http://scikit-learn.org/stable/modules/generated/sklearn.preprocessing.Imputer.html) to replace all missing values. You might also try a more complicated procedure where you temporarily remove missing values in order to compute the scaling parameters before re-introducing those missing values and applying imputation. Think about how much missing data you have and what possible effects each approach might have on your analysis, and justify your decision in the discussion section below.\n",
    "- For the actual scaling function, a [StandardScaler](http://scikit-learn.org/stable/modules/generated/sklearn.preprocessing.StandardScaler.html) instance is suggested, scaling each feature to mean 0 and standard deviation 1.\n",
    "- For these classes, you can make use of the `.fit_transform()` method to both fit a procedure to the data as well as apply the transformation to the data at the same time. Don't forget to keep the fit sklearn objects handy, since you'll be applying them to the customer demographics data towards the end of the project."
   ]
  },
  {
   "cell_type": "code",
   "execution_count": 115,
   "metadata": {},
   "outputs": [],
   "source": [
    "# If you've not yet cleaned the dataset of all NaN values, then investigate and\n",
    "# do that now.\n",
    "\n",
    "# Check for NaN values\n",
    "# Reference: https://stackoverflow.com/a/26266451/975592\n",
    "num_nans = azdias.isnull().sum().sum()\n",
    "\n",
    "assert num_nans > 0\n",
    "\n",
    "imp_mean = Imputer(missing_values=np.nan, strategy='mean')\n",
    "imputed_azdias = pd.DataFrame(imp_mean.fit_transform(azdias), columns=azdias.columns)\n",
    "\n",
    "num_nans = imputed_azdias.isnull().sum().sum()\n",
    "\n",
    "assert num_nans == 0\n",
    "assert imputed_azdias.shape == azdias.shape"
   ]
  },
  {
   "cell_type": "code",
   "execution_count": 116,
   "metadata": {},
   "outputs": [],
   "source": [
    "# Apply feature scaling to the general population demographics data.\n",
    "scaler = StandardScaler()\n",
    "scaled_azdias = pd.DataFrame(scaler.fit_transform(imputed_azdias), columns=imputed_azdias.columns)\n",
    "scaled_azdias.columns = imputed_azdias.columns"
   ]
  },
  {
   "cell_type": "code",
   "execution_count": 117,
   "metadata": {},
   "outputs": [
    {
     "data": {
      "text/html": [
       "<div>\n",
       "<style scoped>\n",
       "    .dataframe tbody tr th:only-of-type {\n",
       "        vertical-align: middle;\n",
       "    }\n",
       "\n",
       "    .dataframe tbody tr th {\n",
       "        vertical-align: top;\n",
       "    }\n",
       "\n",
       "    .dataframe thead th {\n",
       "        text-align: right;\n",
       "    }\n",
       "</style>\n",
       "<table border=\"1\" class=\"dataframe\">\n",
       "  <thead>\n",
       "    <tr style=\"text-align: right;\">\n",
       "      <th></th>\n",
       "      <th>ALTERSKATEGORIE_GROB</th>\n",
       "      <th>ANREDE_KZ</th>\n",
       "      <th>FINANZ_MINIMALIST</th>\n",
       "      <th>FINANZ_SPARER</th>\n",
       "      <th>FINANZ_VORSORGER</th>\n",
       "      <th>FINANZ_ANLEGER</th>\n",
       "      <th>FINANZ_UNAUFFAELLIGER</th>\n",
       "      <th>FINANZ_HAUSBAUER</th>\n",
       "      <th>GREEN_AVANTGARDE</th>\n",
       "      <th>HEALTH_TYP</th>\n",
       "      <th>...</th>\n",
       "      <th>CAMEO_DEU_2015_8D</th>\n",
       "      <th>CAMEO_DEU_2015_9A</th>\n",
       "      <th>CAMEO_DEU_2015_9B</th>\n",
       "      <th>CAMEO_DEU_2015_9C</th>\n",
       "      <th>CAMEO_DEU_2015_9D</th>\n",
       "      <th>CAMEO_DEU_2015_9E</th>\n",
       "      <th>PRAEGENDE_JUGENDJAHRE_DECADE</th>\n",
       "      <th>PRAEGENDE_JUGENDJAHRE_MOVEMENT</th>\n",
       "      <th>CAMEO_INTL_2015_TENS</th>\n",
       "      <th>CAMEO_INTL_2015_ONES</th>\n",
       "    </tr>\n",
       "  </thead>\n",
       "  <tbody>\n",
       "    <tr>\n",
       "      <th>0</th>\n",
       "      <td>-1.764410</td>\n",
       "      <td>0.957608</td>\n",
       "      <td>-1.509511</td>\n",
       "      <td>1.540962</td>\n",
       "      <td>-1.045474</td>\n",
       "      <td>1.456112</td>\n",
       "      <td>0.940718</td>\n",
       "      <td>1.357307</td>\n",
       "      <td>-0.522481</td>\n",
       "      <td>1.097579</td>\n",
       "      <td>...</td>\n",
       "      <td>-0.148266</td>\n",
       "      <td>-0.160587</td>\n",
       "      <td>-0.187238</td>\n",
       "      <td>-0.177607</td>\n",
       "      <td>-0.190425</td>\n",
       "      <td>-0.088703</td>\n",
       "      <td>0.963748</td>\n",
       "      <td>-0.362822</td>\n",
       "      <td>1.205455</td>\n",
       "      <td>-1.281444</td>\n",
       "    </tr>\n",
       "    <tr>\n",
       "      <th>1</th>\n",
       "      <td>0.202106</td>\n",
       "      <td>0.957608</td>\n",
       "      <td>-1.509511</td>\n",
       "      <td>0.866911</td>\n",
       "      <td>-1.772795</td>\n",
       "      <td>-0.580594</td>\n",
       "      <td>0.227211</td>\n",
       "      <td>1.357307</td>\n",
       "      <td>1.913947</td>\n",
       "      <td>1.097579</td>\n",
       "      <td>...</td>\n",
       "      <td>-0.148266</td>\n",
       "      <td>-0.160587</td>\n",
       "      <td>-0.187238</td>\n",
       "      <td>-0.177607</td>\n",
       "      <td>-0.190425</td>\n",
       "      <td>-0.088703</td>\n",
       "      <td>0.963748</td>\n",
       "      <td>1.738678</td>\n",
       "      <td>-0.875424</td>\n",
       "      <td>0.771019</td>\n",
       "    </tr>\n",
       "    <tr>\n",
       "      <th>2</th>\n",
       "      <td>1.185365</td>\n",
       "      <td>0.957608</td>\n",
       "      <td>0.665908</td>\n",
       "      <td>-0.481190</td>\n",
       "      <td>1.136487</td>\n",
       "      <td>-0.580594</td>\n",
       "      <td>-1.199803</td>\n",
       "      <td>-0.766084</td>\n",
       "      <td>-0.522481</td>\n",
       "      <td>-0.257752</td>\n",
       "      <td>...</td>\n",
       "      <td>-0.148266</td>\n",
       "      <td>-0.160587</td>\n",
       "      <td>-0.187238</td>\n",
       "      <td>-0.177607</td>\n",
       "      <td>-0.190425</td>\n",
       "      <td>-0.088703</td>\n",
       "      <td>-0.012849</td>\n",
       "      <td>-0.362822</td>\n",
       "      <td>-1.569051</td>\n",
       "      <td>-0.597289</td>\n",
       "    </tr>\n",
       "    <tr>\n",
       "      <th>3</th>\n",
       "      <td>0.202106</td>\n",
       "      <td>-1.044268</td>\n",
       "      <td>0.665908</td>\n",
       "      <td>0.192860</td>\n",
       "      <td>0.409166</td>\n",
       "      <td>-1.259496</td>\n",
       "      <td>0.227211</td>\n",
       "      <td>-0.766084</td>\n",
       "      <td>-0.522481</td>\n",
       "      <td>1.097579</td>\n",
       "      <td>...</td>\n",
       "      <td>-0.148266</td>\n",
       "      <td>-0.160587</td>\n",
       "      <td>-0.187238</td>\n",
       "      <td>-0.177607</td>\n",
       "      <td>-0.190425</td>\n",
       "      <td>-0.088703</td>\n",
       "      <td>-0.012849</td>\n",
       "      <td>-0.362822</td>\n",
       "      <td>0.511829</td>\n",
       "      <td>0.086865</td>\n",
       "    </tr>\n",
       "    <tr>\n",
       "      <th>4</th>\n",
       "      <td>-1.764410</td>\n",
       "      <td>0.957608</td>\n",
       "      <td>-0.059232</td>\n",
       "      <td>-1.155241</td>\n",
       "      <td>1.136487</td>\n",
       "      <td>-0.580594</td>\n",
       "      <td>-0.486296</td>\n",
       "      <td>1.357307</td>\n",
       "      <td>-0.522481</td>\n",
       "      <td>1.097579</td>\n",
       "      <td>...</td>\n",
       "      <td>-0.148266</td>\n",
       "      <td>-0.160587</td>\n",
       "      <td>-0.187238</td>\n",
       "      <td>-0.177607</td>\n",
       "      <td>-0.190425</td>\n",
       "      <td>-0.088703</td>\n",
       "      <td>-0.989446</td>\n",
       "      <td>-0.362822</td>\n",
       "      <td>1.205455</td>\n",
       "      <td>0.771019</td>\n",
       "    </tr>\n",
       "  </tbody>\n",
       "</table>\n",
       "<p>5 rows × 196 columns</p>\n",
       "</div>"
      ],
      "text/plain": [
       "   ALTERSKATEGORIE_GROB  ANREDE_KZ  FINANZ_MINIMALIST  FINANZ_SPARER  \\\n",
       "0             -1.764410   0.957608          -1.509511       1.540962   \n",
       "1              0.202106   0.957608          -1.509511       0.866911   \n",
       "2              1.185365   0.957608           0.665908      -0.481190   \n",
       "3              0.202106  -1.044268           0.665908       0.192860   \n",
       "4             -1.764410   0.957608          -0.059232      -1.155241   \n",
       "\n",
       "   FINANZ_VORSORGER  FINANZ_ANLEGER  FINANZ_UNAUFFAELLIGER  FINANZ_HAUSBAUER  \\\n",
       "0         -1.045474        1.456112               0.940718          1.357307   \n",
       "1         -1.772795       -0.580594               0.227211          1.357307   \n",
       "2          1.136487       -0.580594              -1.199803         -0.766084   \n",
       "3          0.409166       -1.259496               0.227211         -0.766084   \n",
       "4          1.136487       -0.580594              -0.486296          1.357307   \n",
       "\n",
       "   GREEN_AVANTGARDE  HEALTH_TYP          ...           CAMEO_DEU_2015_8D  \\\n",
       "0         -0.522481    1.097579          ...                   -0.148266   \n",
       "1          1.913947    1.097579          ...                   -0.148266   \n",
       "2         -0.522481   -0.257752          ...                   -0.148266   \n",
       "3         -0.522481    1.097579          ...                   -0.148266   \n",
       "4         -0.522481    1.097579          ...                   -0.148266   \n",
       "\n",
       "   CAMEO_DEU_2015_9A  CAMEO_DEU_2015_9B  CAMEO_DEU_2015_9C  CAMEO_DEU_2015_9D  \\\n",
       "0          -0.160587          -0.187238          -0.177607          -0.190425   \n",
       "1          -0.160587          -0.187238          -0.177607          -0.190425   \n",
       "2          -0.160587          -0.187238          -0.177607          -0.190425   \n",
       "3          -0.160587          -0.187238          -0.177607          -0.190425   \n",
       "4          -0.160587          -0.187238          -0.177607          -0.190425   \n",
       "\n",
       "   CAMEO_DEU_2015_9E  PRAEGENDE_JUGENDJAHRE_DECADE  \\\n",
       "0          -0.088703                      0.963748   \n",
       "1          -0.088703                      0.963748   \n",
       "2          -0.088703                     -0.012849   \n",
       "3          -0.088703                     -0.012849   \n",
       "4          -0.088703                     -0.989446   \n",
       "\n",
       "   PRAEGENDE_JUGENDJAHRE_MOVEMENT  CAMEO_INTL_2015_TENS  CAMEO_INTL_2015_ONES  \n",
       "0                       -0.362822              1.205455             -1.281444  \n",
       "1                        1.738678             -0.875424              0.771019  \n",
       "2                       -0.362822             -1.569051             -0.597289  \n",
       "3                       -0.362822              0.511829              0.086865  \n",
       "4                       -0.362822              1.205455              0.771019  \n",
       "\n",
       "[5 rows x 196 columns]"
      ]
     },
     "execution_count": 117,
     "metadata": {},
     "output_type": "execute_result"
    }
   ],
   "source": [
    "scaled_azdias.head()"
   ]
  },
  {
   "cell_type": "markdown",
   "metadata": {},
   "source": [
    "### Discussion 2.1: Apply Feature Scaling\n",
    "\n",
    "I initially checked the data to see if there were an NaN values and there were quite a few (1M+). I used the Imputer to fill the NaN values to fill in the missing data. Once this was done I ran some assert tests to ensure the data was correct.\n",
    "\n",
    "StandardScaler() was used to scale the features afterwards which was pretty straightforward. No adjustments to parameters."
   ]
  },
  {
   "cell_type": "markdown",
   "metadata": {},
   "source": [
    "### Step 2.2: Perform Dimensionality Reduction\n",
    "\n",
    "On your scaled data, you are now ready to apply dimensionality reduction techniques.\n",
    "\n",
    "- Use sklearn's [PCA](http://scikit-learn.org/stable/modules/generated/sklearn.decomposition.PCA.html) class to apply principal component analysis on the data, thus finding the vectors of maximal variance in the data. To start, you should not set any parameters (so all components are computed) or set a number of components that is at least half the number of features (so there's enough features to see the general trend in variability).\n",
    "- Check out the ratio of variance explained by each principal component as well as the cumulative variance explained. Try plotting the cumulative or sequential values using matplotlib's [`plot()`](https://matplotlib.org/api/_as_gen/matplotlib.pyplot.plot.html) function. Based on what you find, select a value for the number of transformed features you'll retain for the clustering part of the project.\n",
    "- Once you've made a choice for the number of components to keep, make sure you re-fit a PCA instance to perform the decided-on transformation."
   ]
  },
  {
   "cell_type": "code",
   "execution_count": 120,
   "metadata": {},
   "outputs": [
    {
     "data": {
      "text/html": [
       "<div>\n",
       "<style scoped>\n",
       "    .dataframe tbody tr th:only-of-type {\n",
       "        vertical-align: middle;\n",
       "    }\n",
       "\n",
       "    .dataframe tbody tr th {\n",
       "        vertical-align: top;\n",
       "    }\n",
       "\n",
       "    .dataframe thead th {\n",
       "        text-align: right;\n",
       "    }\n",
       "</style>\n",
       "<table border=\"1\" class=\"dataframe\">\n",
       "  <thead>\n",
       "    <tr style=\"text-align: right;\">\n",
       "      <th></th>\n",
       "      <th>ALTERSKATEGORIE_GROB</th>\n",
       "      <th>ANREDE_KZ</th>\n",
       "      <th>FINANZ_MINIMALIST</th>\n",
       "      <th>FINANZ_SPARER</th>\n",
       "      <th>FINANZ_VORSORGER</th>\n",
       "      <th>FINANZ_ANLEGER</th>\n",
       "      <th>FINANZ_UNAUFFAELLIGER</th>\n",
       "      <th>FINANZ_HAUSBAUER</th>\n",
       "      <th>GREEN_AVANTGARDE</th>\n",
       "      <th>HEALTH_TYP</th>\n",
       "      <th>...</th>\n",
       "      <th>CAMEO_DEU_2015_8D</th>\n",
       "      <th>CAMEO_DEU_2015_9A</th>\n",
       "      <th>CAMEO_DEU_2015_9B</th>\n",
       "      <th>CAMEO_DEU_2015_9C</th>\n",
       "      <th>CAMEO_DEU_2015_9D</th>\n",
       "      <th>CAMEO_DEU_2015_9E</th>\n",
       "      <th>PRAEGENDE_JUGENDJAHRE_DECADE</th>\n",
       "      <th>PRAEGENDE_JUGENDJAHRE_MOVEMENT</th>\n",
       "      <th>CAMEO_INTL_2015_TENS</th>\n",
       "      <th>CAMEO_INTL_2015_ONES</th>\n",
       "    </tr>\n",
       "  </thead>\n",
       "  <tbody>\n",
       "    <tr>\n",
       "      <th>0</th>\n",
       "      <td>4.178900</td>\n",
       "      <td>-4.275375</td>\n",
       "      <td>-3.224968</td>\n",
       "      <td>1.651781</td>\n",
       "      <td>0.629006</td>\n",
       "      <td>1.873638</td>\n",
       "      <td>-0.378409</td>\n",
       "      <td>0.054962</td>\n",
       "      <td>-1.020751</td>\n",
       "      <td>2.173129</td>\n",
       "      <td>...</td>\n",
       "      <td>1.235941e-14</td>\n",
       "      <td>-6.142590e-14</td>\n",
       "      <td>-3.152681e-14</td>\n",
       "      <td>2.191100e-14</td>\n",
       "      <td>-2.886291e-15</td>\n",
       "      <td>5.753104e-15</td>\n",
       "      <td>1.469047e-14</td>\n",
       "      <td>-7.417331e-15</td>\n",
       "      <td>3.300332e-15</td>\n",
       "      <td>-2.403514e-17</td>\n",
       "    </tr>\n",
       "    <tr>\n",
       "      <th>1</th>\n",
       "      <td>-0.247880</td>\n",
       "      <td>-0.326763</td>\n",
       "      <td>-3.258357</td>\n",
       "      <td>-0.417597</td>\n",
       "      <td>-4.361157</td>\n",
       "      <td>1.715290</td>\n",
       "      <td>-1.136908</td>\n",
       "      <td>0.296355</td>\n",
       "      <td>-0.364906</td>\n",
       "      <td>-1.675223</td>\n",
       "      <td>...</td>\n",
       "      <td>1.688955e-13</td>\n",
       "      <td>-2.161183e-13</td>\n",
       "      <td>-7.495342e-14</td>\n",
       "      <td>1.117641e-13</td>\n",
       "      <td>6.814328e-14</td>\n",
       "      <td>4.303058e-14</td>\n",
       "      <td>-1.018574e-14</td>\n",
       "      <td>-2.105613e-14</td>\n",
       "      <td>1.790568e-14</td>\n",
       "      <td>4.817321e-16</td>\n",
       "    </tr>\n",
       "    <tr>\n",
       "      <th>2</th>\n",
       "      <td>-4.805087</td>\n",
       "      <td>2.012585</td>\n",
       "      <td>-1.343655</td>\n",
       "      <td>-1.987267</td>\n",
       "      <td>0.782912</td>\n",
       "      <td>-2.245890</td>\n",
       "      <td>1.075515</td>\n",
       "      <td>-1.247057</td>\n",
       "      <td>-0.303355</td>\n",
       "      <td>0.408536</td>\n",
       "      <td>...</td>\n",
       "      <td>4.917188e-14</td>\n",
       "      <td>3.981428e-14</td>\n",
       "      <td>4.271375e-14</td>\n",
       "      <td>4.762625e-14</td>\n",
       "      <td>5.095485e-14</td>\n",
       "      <td>-1.815444e-14</td>\n",
       "      <td>-2.125414e-14</td>\n",
       "      <td>1.203132e-14</td>\n",
       "      <td>-7.791228e-15</td>\n",
       "      <td>1.310981e-16</td>\n",
       "    </tr>\n",
       "    <tr>\n",
       "      <th>3</th>\n",
       "      <td>-0.520307</td>\n",
       "      <td>0.153086</td>\n",
       "      <td>3.256403</td>\n",
       "      <td>2.845979</td>\n",
       "      <td>2.519437</td>\n",
       "      <td>2.171491</td>\n",
       "      <td>-3.455598</td>\n",
       "      <td>2.572836</td>\n",
       "      <td>-0.464077</td>\n",
       "      <td>-3.236066</td>\n",
       "      <td>...</td>\n",
       "      <td>2.707539e-14</td>\n",
       "      <td>4.398691e-14</td>\n",
       "      <td>-1.174557e-13</td>\n",
       "      <td>-1.550746e-13</td>\n",
       "      <td>-8.621823e-14</td>\n",
       "      <td>1.352257e-14</td>\n",
       "      <td>-3.594338e-15</td>\n",
       "      <td>1.532126e-14</td>\n",
       "      <td>1.143463e-14</td>\n",
       "      <td>-1.527358e-16</td>\n",
       "    </tr>\n",
       "    <tr>\n",
       "      <th>4</th>\n",
       "      <td>-0.462518</td>\n",
       "      <td>-0.854504</td>\n",
       "      <td>-1.553246</td>\n",
       "      <td>-4.165389</td>\n",
       "      <td>-0.190332</td>\n",
       "      <td>2.853987</td>\n",
       "      <td>-2.367041</td>\n",
       "      <td>-0.426112</td>\n",
       "      <td>-0.313294</td>\n",
       "      <td>-0.154535</td>\n",
       "      <td>...</td>\n",
       "      <td>-9.932706e-13</td>\n",
       "      <td>-1.958990e-13</td>\n",
       "      <td>5.115838e-14</td>\n",
       "      <td>-8.558243e-13</td>\n",
       "      <td>-6.373433e-13</td>\n",
       "      <td>1.023133e-13</td>\n",
       "      <td>1.841876e-13</td>\n",
       "      <td>-1.699979e-13</td>\n",
       "      <td>5.204048e-14</td>\n",
       "      <td>-1.489170e-15</td>\n",
       "    </tr>\n",
       "  </tbody>\n",
       "</table>\n",
       "<p>5 rows × 196 columns</p>\n",
       "</div>"
      ],
      "text/plain": [
       "   ALTERSKATEGORIE_GROB  ANREDE_KZ  FINANZ_MINIMALIST  FINANZ_SPARER  \\\n",
       "0              4.178900  -4.275375          -3.224968       1.651781   \n",
       "1             -0.247880  -0.326763          -3.258357      -0.417597   \n",
       "2             -4.805087   2.012585          -1.343655      -1.987267   \n",
       "3             -0.520307   0.153086           3.256403       2.845979   \n",
       "4             -0.462518  -0.854504          -1.553246      -4.165389   \n",
       "\n",
       "   FINANZ_VORSORGER  FINANZ_ANLEGER  FINANZ_UNAUFFAELLIGER  FINANZ_HAUSBAUER  \\\n",
       "0          0.629006        1.873638              -0.378409          0.054962   \n",
       "1         -4.361157        1.715290              -1.136908          0.296355   \n",
       "2          0.782912       -2.245890               1.075515         -1.247057   \n",
       "3          2.519437        2.171491              -3.455598          2.572836   \n",
       "4         -0.190332        2.853987              -2.367041         -0.426112   \n",
       "\n",
       "   GREEN_AVANTGARDE  HEALTH_TYP          ...           CAMEO_DEU_2015_8D  \\\n",
       "0         -1.020751    2.173129          ...                1.235941e-14   \n",
       "1         -0.364906   -1.675223          ...                1.688955e-13   \n",
       "2         -0.303355    0.408536          ...                4.917188e-14   \n",
       "3         -0.464077   -3.236066          ...                2.707539e-14   \n",
       "4         -0.313294   -0.154535          ...               -9.932706e-13   \n",
       "\n",
       "   CAMEO_DEU_2015_9A  CAMEO_DEU_2015_9B  CAMEO_DEU_2015_9C  CAMEO_DEU_2015_9D  \\\n",
       "0      -6.142590e-14      -3.152681e-14       2.191100e-14      -2.886291e-15   \n",
       "1      -2.161183e-13      -7.495342e-14       1.117641e-13       6.814328e-14   \n",
       "2       3.981428e-14       4.271375e-14       4.762625e-14       5.095485e-14   \n",
       "3       4.398691e-14      -1.174557e-13      -1.550746e-13      -8.621823e-14   \n",
       "4      -1.958990e-13       5.115838e-14      -8.558243e-13      -6.373433e-13   \n",
       "\n",
       "   CAMEO_DEU_2015_9E  PRAEGENDE_JUGENDJAHRE_DECADE  \\\n",
       "0       5.753104e-15                  1.469047e-14   \n",
       "1       4.303058e-14                 -1.018574e-14   \n",
       "2      -1.815444e-14                 -2.125414e-14   \n",
       "3       1.352257e-14                 -3.594338e-15   \n",
       "4       1.023133e-13                  1.841876e-13   \n",
       "\n",
       "   PRAEGENDE_JUGENDJAHRE_MOVEMENT  CAMEO_INTL_2015_TENS  CAMEO_INTL_2015_ONES  \n",
       "0                   -7.417331e-15          3.300332e-15         -2.403514e-17  \n",
       "1                   -2.105613e-14          1.790568e-14          4.817321e-16  \n",
       "2                    1.203132e-14         -7.791228e-15          1.310981e-16  \n",
       "3                    1.532126e-14          1.143463e-14         -1.527358e-16  \n",
       "4                   -1.699979e-13          5.204048e-14         -1.489170e-15  \n",
       "\n",
       "[5 rows x 196 columns]"
      ]
     },
     "execution_count": 120,
     "metadata": {},
     "output_type": "execute_result"
    }
   ],
   "source": [
    "# Apply PCA to the data.\n",
    "pca = PCA()\n",
    "pca_azdias = pd.DataFrame(pca.fit_transform(scaled_azdias), columns=scaled_azdias.columns)\n",
    "pca_azdias.head()"
   ]
  },
  {
   "cell_type": "code",
   "execution_count": 126,
   "metadata": {},
   "outputs": [
    {
     "data": {
      "text/plain": [
       "array([  8.20349788e-02,   5.54742995e-02,   3.50590922e-02,\n",
       "         2.98769869e-02,   2.36371114e-02,   1.59964121e-02,\n",
       "         1.49576859e-02,   1.33773025e-02,   1.29934383e-02,\n",
       "         1.25947880e-02,   1.19598331e-02,   1.18283683e-02,\n",
       "         1.15077072e-02,   1.13755901e-02,   1.11884303e-02,\n",
       "         1.09186894e-02,   1.06829288e-02,   1.05758439e-02,\n",
       "         1.04216145e-02,   1.02628043e-02,   1.01380866e-02,\n",
       "         9.77485610e-03,   9.43699187e-03,   9.02648075e-03,\n",
       "         8.58613218e-03,   8.32404578e-03,   8.18207357e-03,\n",
       "         7.90305607e-03,   7.38203255e-03,   7.17331609e-03,\n",
       "         7.04104501e-03,   6.96290793e-03,   6.83120624e-03,\n",
       "         6.70919541e-03,   6.64714878e-03,   6.56882399e-03,\n",
       "         6.48668985e-03,   6.28388177e-03,   6.21225951e-03,\n",
       "         6.06077531e-03,   6.03241635e-03,   5.86363682e-03,\n",
       "         5.78020145e-03,   5.71999656e-03,   5.69002078e-03,\n",
       "         5.63233560e-03,   5.59475670e-03,   5.57028644e-03,\n",
       "         5.51701691e-03,   5.47136508e-03,   5.45921527e-03,\n",
       "         5.44053868e-03,   5.37757095e-03,   5.34298868e-03,\n",
       "         5.33381052e-03,   5.30714414e-03,   5.30469533e-03,\n",
       "         5.29320260e-03,   5.27209092e-03,   5.25291317e-03,\n",
       "         5.24502203e-03,   5.23403498e-03,   5.22543219e-03,\n",
       "         5.21339134e-03,   5.20886580e-03,   5.19881043e-03,\n",
       "         5.19461683e-03,   5.18906958e-03,   5.17936548e-03,\n",
       "         5.17431065e-03,   5.16973573e-03,   5.15832578e-03,\n",
       "         5.15484864e-03,   5.14961683e-03,   5.14606999e-03,\n",
       "         5.14101457e-03,   5.13898521e-03,   5.13572283e-03,\n",
       "         5.13382801e-03,   5.12773976e-03,   5.12248760e-03,\n",
       "         5.11833583e-03,   5.11019197e-03,   5.10182725e-03,\n",
       "         5.09985612e-03,   5.09791733e-03,   5.08973689e-03,\n",
       "         5.05711753e-03,   5.04494754e-03,   5.03970239e-03,\n",
       "         5.01599420e-03,   4.98541991e-03,   4.97541909e-03,\n",
       "         4.91008515e-03,   4.82598002e-03,   4.79614609e-03,\n",
       "         4.69600430e-03,   4.64749897e-03,   4.61631313e-03,\n",
       "         4.58789569e-03,   4.50274395e-03,   4.47381234e-03,\n",
       "         4.44439363e-03,   4.33443740e-03,   4.25703679e-03,\n",
       "         4.06688635e-03,   4.01957334e-03,   3.99231574e-03,\n",
       "         3.88118597e-03,   3.72881792e-03,   3.54902511e-03,\n",
       "         3.49714008e-03,   3.41221703e-03,   3.25504127e-03,\n",
       "         3.23035649e-03,   3.12467592e-03,   3.07792013e-03,\n",
       "         3.04235239e-03,   2.77469279e-03,   2.68876196e-03,\n",
       "         2.61248201e-03,   2.48215189e-03,   2.37503690e-03,\n",
       "         2.24953790e-03,   2.23427149e-03,   2.17338680e-03,\n",
       "         2.06337287e-03,   2.00094909e-03,   1.92483757e-03,\n",
       "         1.86163255e-03,   1.79304776e-03,   1.75768095e-03,\n",
       "         1.54666133e-03,   1.49032267e-03,   1.44317854e-03,\n",
       "         1.38053580e-03,   1.37440593e-03,   1.32070026e-03,\n",
       "         1.27683777e-03,   1.24245603e-03,   1.21058436e-03,\n",
       "         1.17577525e-03,   1.12455292e-03,   1.08080002e-03,\n",
       "         1.04231812e-03,   1.02322918e-03,   9.34929330e-04,\n",
       "         9.33532699e-04,   8.90384714e-04,   8.76362775e-04,\n",
       "         8.45891487e-04,   8.13578966e-04,   7.33193201e-04,\n",
       "         7.12026436e-04,   6.87757421e-04,   6.08993028e-04,\n",
       "         5.81368590e-04,   5.39571373e-04,   4.64051874e-04,\n",
       "         4.47626812e-04,   4.13567007e-04,   4.01563770e-04,\n",
       "         3.67398156e-04,   3.07388673e-04,   2.55129628e-04,\n",
       "         1.67348196e-04,   1.05201547e-04,   7.02040864e-05,\n",
       "         3.10014516e-05,   1.67967225e-05,   1.22021123e-05,\n",
       "         3.47521674e-26,   2.27003008e-26,   1.50212150e-27,\n",
       "         1.27214318e-27,   3.08494973e-28,   1.43611854e-28,\n",
       "         5.16125355e-29,   3.86892277e-29,   1.81428616e-29,\n",
       "         1.01226237e-29,   6.16037336e-30,   5.09840738e-30,\n",
       "         3.95848354e-30,   3.44177038e-30,   2.79694807e-30,\n",
       "         2.54317440e-30,   2.42895818e-30,   1.80637188e-30,\n",
       "         1.58739922e-30,   1.44665525e-30,   1.33996844e-30,\n",
       "         8.58199701e-31,   6.61246943e-31,   1.28085144e-31,\n",
       "         1.61785469e-32])"
      ]
     },
     "execution_count": 126,
     "metadata": {},
     "output_type": "execute_result"
    }
   ],
   "source": [
    "# Investigate the variance accounted for by each principal component.\n",
    "pca.explained_variance_ratio_"
   ]
  },
  {
   "cell_type": "code",
   "execution_count": null,
   "metadata": {},
   "outputs": [],
   "source": [
    "# Re-apply PCA to the data while selecting for number of components to retain.\n",
    "\n"
   ]
  },
  {
   "cell_type": "markdown",
   "metadata": {},
   "source": [
    "### Discussion 2.2: Perform Dimensionality Reduction\n",
    "\n",
    "(Double-click this cell and replace this text with your own text, reporting your findings and decisions regarding dimensionality reduction. How many principal components / transformed features are you retaining for the next step of the analysis?)"
   ]
  },
  {
   "cell_type": "markdown",
   "metadata": {},
   "source": [
    "### Step 2.3: Interpret Principal Components\n",
    "\n",
    "Now that we have our transformed principal components, it's a nice idea to check out the weight of each variable on the first few components to see if they can be interpreted in some fashion.\n",
    "\n",
    "As a reminder, each principal component is a unit vector that points in the direction of highest variance (after accounting for the variance captured by earlier principal components). The further a weight is from zero, the more the principal component is in the direction of the corresponding feature. If two features have large weights of the same sign (both positive or both negative), then increases in one tend expect to be associated with increases in the other. To contrast, features with different signs can be expected to show a negative correlation: increases in one variable should result in a decrease in the other.\n",
    "\n",
    "- To investigate the features, you should map each weight to their corresponding feature name, then sort the features according to weight. The most interesting features for each principal component, then, will be those at the beginning and end of the sorted list. Use the data dictionary document to help you understand these most prominent features, their relationships, and what a positive or negative value on the principal component might indicate.\n",
    "- You should investigate and interpret feature associations from the first three principal components in this substep. To help facilitate this, you should write a function that you can call at any time to print the sorted list of feature weights, for the *i*-th principal component. This might come in handy in the next step of the project, when you interpret the tendencies of the discovered clusters."
   ]
  },
  {
   "cell_type": "code",
   "execution_count": null,
   "metadata": {},
   "outputs": [],
   "source": [
    "# Map weights for the first principal component to corresponding feature names\n",
    "# and then print the linked values, sorted by weight.\n",
    "# HINT: Try defining a function here or in a new cell that you can reuse in the\n",
    "# other cells.\n",
    "\n"
   ]
  },
  {
   "cell_type": "code",
   "execution_count": null,
   "metadata": {},
   "outputs": [],
   "source": [
    "# Map weights for the second principal component to corresponding feature names\n",
    "# and then print the linked values, sorted by weight.\n",
    "\n"
   ]
  },
  {
   "cell_type": "code",
   "execution_count": null,
   "metadata": {},
   "outputs": [],
   "source": [
    "# Map weights for the third principal component to corresponding feature names\n",
    "# and then print the linked values, sorted by weight.\n",
    "\n"
   ]
  },
  {
   "cell_type": "markdown",
   "metadata": {},
   "source": [
    "### Discussion 2.3: Interpret Principal Components\n",
    "\n",
    "(Double-click this cell and replace this text with your own text, reporting your observations from detailed investigation of the first few principal components generated. Can we interpret positive and negative values from them in a meaningful way?)"
   ]
  },
  {
   "cell_type": "markdown",
   "metadata": {},
   "source": [
    "## Step 3: Clustering\n",
    "\n",
    "### Step 3.1: Apply Clustering to General Population\n",
    "\n",
    "You've assessed and cleaned the demographics data, then scaled and transformed them. Now, it's time to see how the data clusters in the principal components space. In this substep, you will apply k-means clustering to the dataset and use the average within-cluster distances from each point to their assigned cluster's centroid to decide on a number of clusters to keep.\n",
    "\n",
    "- Use sklearn's [KMeans](http://scikit-learn.org/stable/modules/generated/sklearn.cluster.KMeans.html#sklearn.cluster.KMeans) class to perform k-means clustering on the PCA-transformed data.\n",
    "- Then, compute the average difference from each point to its assigned cluster's center. **Hint**: The KMeans object's `.score()` method might be useful here, but note that in sklearn, scores tend to be defined so that larger is better. Try applying it to a small, toy dataset, or use an internet search to help your understanding.\n",
    "- Perform the above two steps for a number of different cluster counts. You can then see how the average distance decreases with an increasing number of clusters. However, each additional cluster provides a smaller net benefit. Use this fact to select a final number of clusters in which to group the data. **Warning**: because of the large size of the dataset, it can take a long time for the algorithm to resolve. The more clusters to fit, the longer the algorithm will take. You should test for cluster counts through at least 10 clusters to get the full picture, but you shouldn't need to test for a number of clusters above about 30.\n",
    "- Once you've selected a final number of clusters to use, re-fit a KMeans instance to perform the clustering operation. Make sure that you also obtain the cluster assignments for the general demographics data, since you'll be using them in the final Step 3.3."
   ]
  },
  {
   "cell_type": "code",
   "execution_count": null,
   "metadata": {},
   "outputs": [],
   "source": [
    "# Over a number of different cluster counts...\n",
    "\n",
    "\n",
    "    # run k-means clustering on the data and...\n",
    "    \n",
    "    \n",
    "    # compute the average within-cluster distances.\n",
    "    \n",
    "    "
   ]
  },
  {
   "cell_type": "code",
   "execution_count": null,
   "metadata": {},
   "outputs": [],
   "source": [
    "# Investigate the change in within-cluster distance across number of clusters.\n",
    "# HINT: Use matplotlib's plot function to visualize this relationship.\n",
    "\n"
   ]
  },
  {
   "cell_type": "code",
   "execution_count": null,
   "metadata": {},
   "outputs": [],
   "source": [
    "# Re-fit the k-means model with the selected number of clusters and obtain\n",
    "# cluster predictions for the general population demographics data.\n",
    "\n"
   ]
  },
  {
   "cell_type": "markdown",
   "metadata": {},
   "source": [
    "### Discussion 3.1: Apply Clustering to General Population\n",
    "\n",
    "(Double-click this cell and replace this text with your own text, reporting your findings and decisions regarding clustering. Into how many clusters have you decided to segment the population?)"
   ]
  },
  {
   "cell_type": "markdown",
   "metadata": {},
   "source": [
    "### Step 3.2: Apply All Steps to the Customer Data\n",
    "\n",
    "Now that you have clusters and cluster centers for the general population, it's time to see how the customer data maps on to those clusters. Take care to not confuse this for re-fitting all of the models to the customer data. Instead, you're going to use the fits from the general population to clean, transform, and cluster the customer data. In the last step of the project, you will interpret how the general population fits apply to the customer data.\n",
    "\n",
    "- Don't forget when loading in the customers data, that it is semicolon (`;`) delimited.\n",
    "- Apply the same feature wrangling, selection, and engineering steps to the customer demographics using the `clean_data()` function you created earlier. (You can assume that the customer demographics data has similar meaning behind missing data patterns as the general demographics data.)\n",
    "- Use the sklearn objects from the general demographics data, and apply their transformations to the customers data. That is, you should not be using a `.fit()` or `.fit_transform()` method to re-fit the old objects, nor should you be creating new sklearn objects! Carry the data through the feature scaling, PCA, and clustering steps, obtaining cluster assignments for all of the data in the customer demographics data."
   ]
  },
  {
   "cell_type": "code",
   "execution_count": null,
   "metadata": {},
   "outputs": [],
   "source": [
    "# Load in the customer demographics data.\n",
    "customers = pd.read_csv('Udacity_CUSTOMERS_Subset.csv', delimiter=';')"
   ]
  },
  {
   "cell_type": "code",
   "execution_count": null,
   "metadata": {},
   "outputs": [],
   "source": [
    "# Apply preprocessing, feature transformation, and clustering from the general\n",
    "# demographics onto the customer data, obtaining cluster predictions for the\n",
    "# customer demographics data.\n",
    "\n"
   ]
  },
  {
   "cell_type": "markdown",
   "metadata": {},
   "source": [
    "### Step 3.3: Compare Customer Data to Demographics Data\n",
    "\n",
    "At this point, you have clustered data based on demographics of the general population of Germany, and seen how the customer data for a mail-order sales company maps onto those demographic clusters. In this final substep, you will compare the two cluster distributions to see where the strongest customer base for the company is.\n",
    "\n",
    "Consider the proportion of persons in each cluster for the general population, and the proportions for the customers. If we think the company's customer base to be universal, then the cluster assignment proportions should be fairly similar between the two. If there are only particular segments of the population that are interested in the company's products, then we should see a mismatch from one to the other. If there is a higher proportion of persons in a cluster for the customer data compared to the general population (e.g. 5% of persons are assigned to a cluster for the general population, but 15% of the customer data is closest to that cluster's centroid) then that suggests the people in that cluster to be a target audience for the company. On the other hand, the proportion of the data in a cluster being larger in the general population than the customer data (e.g. only 2% of customers closest to a population centroid that captures 6% of the data) suggests that group of persons to be outside of the target demographics.\n",
    "\n",
    "Take a look at the following points in this step:\n",
    "\n",
    "- Compute the proportion of data points in each cluster for the general population and the customer data. Visualizations will be useful here: both for the individual dataset proportions, but also to visualize the ratios in cluster representation between groups. Seaborn's [`countplot()`](https://seaborn.pydata.org/generated/seaborn.countplot.html) or [`barplot()`](https://seaborn.pydata.org/generated/seaborn.barplot.html) function could be handy.\n",
    "  - Recall the analysis you performed in step 1.1.3 of the project, where you separated out certain data points from the dataset if they had more than a specified threshold of missing values. If you found that this group was qualitatively different from the main bulk of the data, you should treat this as an additional data cluster in this analysis. Make sure that you account for the number of data points in this subset, for both the general population and customer datasets, when making your computations!\n",
    "- Which cluster or clusters are overrepresented in the customer dataset compared to the general population? Select at least one such cluster and infer what kind of people might be represented by that cluster. Use the principal component interpretations from step 2.3 or look at additional components to help you make this inference. Alternatively, you can use the `.inverse_transform()` method of the PCA and StandardScaler objects to transform centroids back to the original data space and interpret the retrieved values directly.\n",
    "- Perform a similar investigation for the underrepresented clusters. Which cluster or clusters are underrepresented in the customer dataset compared to the general population, and what kinds of people are typified by these clusters?"
   ]
  },
  {
   "cell_type": "code",
   "execution_count": null,
   "metadata": {},
   "outputs": [],
   "source": [
    "# Compare the proportion of data in each cluster for the customer data to the\n",
    "# proportion of data in each cluster for the general population.\n",
    "\n"
   ]
  },
  {
   "cell_type": "code",
   "execution_count": null,
   "metadata": {},
   "outputs": [],
   "source": [
    "# What kinds of people are part of a cluster that is overrepresented in the\n",
    "# customer data compared to the general population?\n",
    "\n"
   ]
  },
  {
   "cell_type": "code",
   "execution_count": null,
   "metadata": {},
   "outputs": [],
   "source": [
    "# What kinds of people are part of a cluster that is underrepresented in the\n",
    "# customer data compared to the general population?\n",
    "\n"
   ]
  },
  {
   "cell_type": "markdown",
   "metadata": {},
   "source": [
    "### Discussion 3.3: Compare Customer Data to Demographics Data\n",
    "\n",
    "(Double-click this cell and replace this text with your own text, reporting findings and conclusions from the clustering analysis. Can we describe segments of the population that are relatively popular with the mail-order company, or relatively unpopular with the company?)"
   ]
  },
  {
   "cell_type": "markdown",
   "metadata": {},
   "source": [
    "> Congratulations on making it this far in the project! Before you finish, make sure to check through the entire notebook from top to bottom to make sure that your analysis follows a logical flow and all of your findings are documented in **Discussion** cells. Once you've checked over all of your work, you should export the notebook as an HTML document to submit for evaluation. You can do this from the menu, navigating to **File -> Download as -> HTML (.html)**. You will submit both that document and this notebook for your project submission."
   ]
  },
  {
   "cell_type": "code",
   "execution_count": null,
   "metadata": {},
   "outputs": [],
   "source": []
  }
 ],
 "metadata": {
  "kernelspec": {
   "display_name": "Python 3",
   "language": "python",
   "name": "python3"
  },
  "language_info": {
   "codemirror_mode": {
    "name": "ipython",
    "version": 3
   },
   "file_extension": ".py",
   "mimetype": "text/x-python",
   "name": "python",
   "nbconvert_exporter": "python",
   "pygments_lexer": "ipython3",
   "version": "3.6.3"
  }
 },
 "nbformat": 4,
 "nbformat_minor": 2
}
